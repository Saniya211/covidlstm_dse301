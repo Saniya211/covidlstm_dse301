{
 "cells": [
  {
   "cell_type": "markdown",
   "metadata": {
    "colab_type": "text",
    "id": "OWs2FS8yEuw4"
   },
   "source": [
    "# **DSE 301 -** Artificial Intelligence and its Scientific Applications\n",
    "\n",
    "# **Project :** LSTM Neural Networks: \\\\COVID-19 Time Series Forecasting\n",
    "\n",
    "*Group Members :* \n",
    "\n",
    "1.   Krishna Prahlaadh R. (17129)\n",
    "2.   Saniya Shinde (17241)\n"
   ]
  },
  {
   "cell_type": "code",
   "execution_count": 208,
   "metadata": {
    "colab": {},
    "colab_type": "code",
    "executionInfo": {
     "elapsed": 2088,
     "status": "ok",
     "timestamp": 1592681325179,
     "user": {
      "displayName": "Saniya Rahul Shinde 17241",
      "photoUrl": "",
      "userId": "11719832917019863318"
     },
     "user_tz": -330
    },
    "id": "gxNRIiw2CZCs"
   },
   "outputs": [],
   "source": [
    "import pandas as pd\n",
    "import numpy as np\n",
    "import matplotlib.pyplot as plt\n",
    "from sklearn.metrics import mean_squared_error\n",
    "import tensorflow as tf\n",
    "from tensorflow.keras.models import Sequential\n",
    "from tensorflow.keras.layers import LSTM\n",
    "from tensorflow.keras.layers import Dense\n",
    "from tensorflow.keras.layers import Bidirectional\n",
    "\n",
    "covid_india_data = pd.read_csv(\"covid_19_india.csv\")\n",
    "\n",
    "n_steps = 3           # number of timesteps we would like to consider at a time\n",
    "n_features = 1       # the \"feature\" of the input at these timestamps, i.e., the output corresponding to an input array of length\n",
    "# n_steps is an array of length n_features\n",
    "n_days=10             # No of days for which we are predicting - in the case of Bidirectional LSTM\n",
    "pred_days=10       # No of days for which we are predicting - in the case of Vanilla LSTM\n",
    "\n",
    "# All the following LSTM models have been developed for univariate time series forecasting"
   ]
  },
  {
   "cell_type": "code",
   "execution_count": 209,
   "metadata": {
    "colab": {},
    "colab_type": "code",
    "executionInfo": {
     "elapsed": 954,
     "status": "ok",
     "timestamp": 1592681327550,
     "user": {
      "displayName": "Saniya Rahul Shinde 17241",
      "photoUrl": "",
      "userId": "11719832917019863318"
     },
     "user_tz": -330
    },
    "id": "2-XpApnZCZDB"
   },
   "outputs": [],
   "source": [
    "# splits a given univariate sequence into multiple samples where each sample has a specified number of time steps and the output is a single time step\n",
    "def split_sequence(sequence, n_steps):\n",
    "\tx, y = list(), list()\n",
    "\tfor i in range(len(sequence)):\n",
    "\t\t# find the end of this pattern\n",
    "\t\tend_ix = i + n_steps\n",
    "\t\t# check if we are beyond the sequence\n",
    "\t\tif end_ix > len(sequence)-1:\n",
    "\t\t\tbreak\n",
    "\t\t# gather input and output parts of the pattern\n",
    "\t\tseq_x, seq_y = sequence[i:end_ix], sequence[end_ix]\n",
    "\t\tx.append(seq_x)\n",
    "\t\ty.append(seq_y)\n",
    "\treturn np.array(x), np.array(y) "
   ]
  },
  {
   "cell_type": "markdown",
   "metadata": {
    "colab_type": "text",
    "id": "19TiAMzKaXf4"
   },
   "source": [
    "# India"
   ]
  },
  {
   "cell_type": "markdown",
   "metadata": {
    "colab_type": "text",
    "id": "nUOzC76PMW79"
   },
   "source": [
    "## Infected Cases"
   ]
  },
  {
   "cell_type": "code",
   "execution_count": 210,
   "metadata": {
    "colab": {
     "base_uri": "https://localhost:8080/",
     "height": 1000
    },
    "colab_type": "code",
    "executionInfo": {
     "elapsed": 880,
     "status": "ok",
     "timestamp": 1592681331279,
     "user": {
      "displayName": "Saniya Rahul Shinde 17241",
      "photoUrl": "",
      "userId": "11719832917019863318"
     },
     "user_tz": -330
    },
    "id": "Efl6yRPC5nKp",
    "outputId": "273f5215-48e4-4e23-b9de-5c4811620164"
   },
   "outputs": [
    {
     "name": "stdout",
     "output_type": "stream",
     "text": [
      "Day 0 : 1\n",
      "Day 1 : 1\n",
      "Day 2 : 1\n",
      "Day 3 : 2\n",
      "Day 4 : 3\n",
      "Day 5 : 3\n",
      "Day 6 : 3\n",
      "Day 7 : 3\n",
      "Day 8 : 3\n",
      "Day 9 : 3\n",
      "Day 10 : 3\n",
      "Day 11 : 3\n",
      "Day 12 : 3\n",
      "Day 13 : 3\n",
      "Day 14 : 3\n",
      "Day 15 : 3\n",
      "Day 16 : 3\n",
      "Day 17 : 3\n",
      "Day 18 : 3\n",
      "Day 19 : 3\n",
      "Day 20 : 3\n",
      "Day 21 : 3\n",
      "Day 22 : 3\n",
      "Day 23 : 3\n",
      "Day 24 : 3\n",
      "Day 25 : 3\n",
      "Day 26 : 3\n",
      "Day 27 : 3\n",
      "Day 28 : 3\n",
      "Day 29 : 3\n",
      "Day 30 : 3\n",
      "Day 31 : 3\n",
      "Day 32 : 5\n",
      "Day 33 : 5\n",
      "Day 34 : 28\n",
      "Day 35 : 30\n",
      "Day 36 : 31\n",
      "Day 37 : 34\n",
      "Day 38 : 39\n",
      "Day 39 : 43\n",
      "Day 40 : 56\n",
      "Day 41 : 62\n",
      "Day 42 : 73\n",
      "Day 43 : 82\n",
      "Day 44 : 102\n",
      "Day 45 : 113\n",
      "Day 46 : 119\n",
      "Day 47 : 142\n",
      "Day 48 : 156\n",
      "Day 49 : 194\n",
      "Day 50 : 244\n",
      "Day 51 : 330\n",
      "Day 52 : 396\n",
      "Day 53 : 499\n",
      "Day 54 : 536\n",
      "Day 55 : 657\n",
      "Day 56 : 727\n",
      "Day 57 : 887\n",
      "Day 58 : 987\n",
      "Day 59 : 1024\n",
      "Day 60 : 1251\n",
      "Day 61 : 1397\n",
      "Day 62 : 1998\n",
      "Day 63 : 2543\n",
      "Day 64 : 2567\n",
      "Day 65 : 3082\n",
      "Day 66 : 3588\n",
      "Day 67 : 4778\n",
      "Day 68 : 5311\n",
      "Day 69 : 5916\n",
      "Day 70 : 6725\n",
      "Day 71 : 7598\n",
      "Day 72 : 8446\n",
      "Day 73 : 9205\n",
      "Day 74 : 10453\n",
      "Day 75 : 11487\n",
      "Day 76 : 12322\n",
      "Day 77 : 13430\n",
      "Day 78 : 14352\n",
      "Day 79 : 15722\n",
      "Day 80 : 17615\n",
      "Day 81 : 18539\n",
      "Day 82 : 20080\n",
      "Day 83 : 21370\n",
      "Day 84 : 23077\n",
      "Day 85 : 24530\n",
      "Day 86 : 26283\n",
      "Day 87 : 27890\n",
      "Day 88 : 29451\n",
      "Day 89 : 31324\n",
      "Day 90 : 33062\n",
      "Day 91 : 34863\n",
      "Day 92 : 37257\n",
      "Day 93 : 39699\n",
      "Day 94 : 42505\n",
      "Day 95 : 46437\n",
      "Day 96 : 49400\n",
      "Day 97 : 52987\n",
      "Day 98 : 56351\n",
      "Day 99 : 59695\n",
      "Day 100 : 62808\n",
      "Day 101 : 67161\n",
      "Day 102 : 70768\n",
      "Day 103 : 74292\n",
      "Day 104 : 78055\n",
      "Day 105 : 81997\n",
      "Day 106 : 85784\n",
      "Day 107 : 90648\n",
      "Day 108 : 95698\n",
      "Day 109 : 100328\n",
      "Day 110 : 106475\n",
      "Day 111 : 112028\n",
      "Day 112 : 118226\n",
      "Day 113 : 124794\n",
      "Day 114 : 131423\n",
      "Day 115 : 138536\n",
      "Day 116 : 144950\n",
      "Day 117 : 150793\n",
      "Day 118 : 158086\n",
      "Day 119 : 165386\n",
      "Day 120 : 173491\n",
      "Day 121 : 181827\n",
      "Day 122 : 190609\n",
      "Day 123 : 198370\n",
      "Day 124 : 207191\n",
      "Day 125 : 216824\n",
      "Day 126 : 226713\n",
      "Day 127 : 236184\n",
      "Day 128 : 246622\n",
      "Day 129 : 257486\n",
      "Day 130 : 265928\n",
      "Day 131 : 276146\n",
      "Day 132 : 286605\n",
      "Day 133 : 297535\n",
      "Day 134 : 308993\n",
      "Day 135 : 320922\n",
      "Day 136 : 332424\n",
      "Day 137 : 343091\n",
      "Day 138 : 354065\n",
      "Day 139 : 366946\n",
      "Day 140 : 380532\n",
      "Day 141 : 395048\n"
     ]
    }
   ],
   "source": [
    "# Data extraction and preprocessing to convert it to an array\n",
    "\n",
    "I_data = pd.read_csv(\"https://raw.githubusercontent.com/CSSEGISandData/COVID-19/master/csse_covid_19_data/csse_covid_19_time_series/time_series_covid19_confirmed_global.csv\")\n",
    "D_data = pd.read_csv(\"https://raw.githubusercontent.com/CSSEGISandData/COVID-19/master/csse_covid_19_data/csse_covid_19_time_series/time_series_covid19_deaths_global.csv\")\n",
    "R_data = pd.read_csv(\"https://raw.githubusercontent.com/CSSEGISandData/COVID-19/master/csse_covid_19_data/csse_covid_19_time_series/time_series_covid19_recovered_global.csv\")\n",
    "\n",
    "I_data = I_data.drop(columns=[\"Lat\",\"Long\"])\n",
    "new_I = I_data.loc[I_data[\"Country/Region\"]==\"India\"]\n",
    "l=len(new_I.columns)-1\n",
    "new_I.iloc[0,l]\n",
    "I_act=[]\n",
    "\n",
    "new_I.iloc[0,2]\n",
    "\n",
    "for i in range(10,len(new_I.columns)):\n",
    "    I_act.append(new_I.iloc[0,i])\n",
    "\n",
    "for i in range(len(I_act)):\n",
    "    print('Day', i, ':', I_act[i])\n",
    "\n",
    "I_cases = np.asarray(I_act)\n",
    "\n",
    "x_raw, y = split_sequence(I_act, n_steps)"
   ]
  },
  {
   "cell_type": "markdown",
   "metadata": {
    "colab_type": "text",
    "id": "yOi9naEDMdeE"
   },
   "source": [
    "### Vanilla LSTM"
   ]
  },
  {
   "cell_type": "markdown",
   "metadata": {
    "colab_type": "text",
    "id": "-6mTe0U0ARIY"
   },
   "source": [
    "A Vanilla LSTM network consisting of 50 ReLU-activated units is compiled with an $Adam$ optimizer and Mean-Squared Error loss function. The model is trained for 200 epochs.\n",
    "\n",
    "All hyperparameters are decided by trial and error."
   ]
  },
  {
   "cell_type": "code",
   "execution_count": 211,
   "metadata": {
    "colab": {},
    "colab_type": "code",
    "executionInfo": {
     "elapsed": 7864,
     "status": "ok",
     "timestamp": 1592681341838,
     "user": {
      "displayName": "Saniya Rahul Shinde 17241",
      "photoUrl": "",
      "userId": "11719832917019863318"
     },
     "user_tz": -330
    },
    "id": "re6UfKhxGhbg"
   },
   "outputs": [],
   "source": [
    "#Single LSTM\n",
    "model = Sequential()\n",
    "model.add(LSTM(50, activation = 'relu', input_shape = (n_steps, n_features)))\n",
    "model.add(Dense(1))\n",
    "model.compile(optimizer = 'adam', loss = 'mse')\n",
    "\n",
    "x = x_raw.reshape(x_raw.shape[0], x_raw.shape[1], n_features)\n",
    "model.fit(x, y, epochs = 200, verbose = False)\n",
    "\n",
    "y_o = I_act[:n_steps]          # the first 'n_steps' values are not predicted but taken directly\n",
    "for i in range(len(I_cases)):\n",
    "    end = i + n_steps\n",
    "    if end == len(I_cases):\n",
    "        break\n",
    "    x_in = I_cases[i:end]\n",
    "    x_in = x_in.reshape(1, n_steps, n_features)\n",
    "    y_out = model.predict(x_in, verbose = 0)\n",
    "    y_o.append(int(y_out))\n",
    "\n"
   ]
  },
  {
   "cell_type": "code",
   "execution_count": 212,
   "metadata": {
    "colab": {
     "base_uri": "https://localhost:8080/",
     "height": 34
    },
    "colab_type": "code",
    "executionInfo": {
     "elapsed": 904,
     "status": "ok",
     "timestamp": 1592681343919,
     "user": {
      "displayName": "Saniya Rahul Shinde 17241",
      "photoUrl": "",
      "userId": "11719832917019863318"
     },
     "user_tz": -330
    },
    "id": "I1rZMv1xGjUr",
    "outputId": "8cb70381-cf95-4819-aab2-8444478896db"
   },
   "outputs": [
    {
     "data": {
      "text/plain": [
       "142"
      ]
     },
     "execution_count": 212,
     "metadata": {
      "tags": []
     },
     "output_type": "execute_result"
    }
   ],
   "source": [
    "pred_start = I_act[-n_steps:]\n",
    "\n",
    "# Prediction for the next 'pred_days' number of days\n",
    "for i in range(pred_days):\n",
    "    end = i + n_steps\n",
    "    x_in = np.array(pred_start)[i:end]\n",
    "    x_in = x_in.reshape(1, n_steps, n_features)\n",
    "    y_out = model.predict(x_in, verbose = 0)\n",
    "    pred_start.append(int(y_out))\n",
    "    y_o.append(int(y_out))\n",
    "\n",
    "pred_out = np.array(y_o)\n",
    "x_val = np.arange(len(I_act))\n",
    "len(x_val)\n"
   ]
  },
  {
   "cell_type": "code",
   "execution_count": 213,
   "metadata": {
    "colab": {
     "base_uri": "https://localhost:8080/",
     "height": 312
    },
    "colab_type": "code",
    "executionInfo": {
     "elapsed": 1606,
     "status": "ok",
     "timestamp": 1592681346457,
     "user": {
      "displayName": "Saniya Rahul Shinde 17241",
      "photoUrl": "",
      "userId": "11719832917019863318"
     },
     "user_tz": -330
    },
    "id": "ObIlMpf2GjEM",
    "outputId": "e3b04aab-96d3-4fe8-cd24-4a9d6a2e737b"
   },
   "outputs": [
    {
     "data": {
      "image/png": "[encoded data removed]",
      "text/plain": [
       "<Figure size 432x288 with 1 Axes>"
      ]
     },
     "metadata": {
      "needs_background": "light",
      "tags": []
     },
     "output_type": "display_data"
    },
    {
     "name": "stdout",
     "output_type": "stream",
     "text": [
      "Percentage Error is :   0.39894227510997715\n"
     ]
    }
   ],
   "source": [
    "# Plotting the results\n",
    "plt.plot(I_cases,label='Actual data',color='red',linewidth=3)\n",
    "plt.plot(pred_out,label='Predicted value',color='blue',linewidth=1)\n",
    "plt.legend(loc='best')\n",
    "plt.xlabel('No of days')\n",
    "plt.ylabel('No of people')\n",
    "plt.title('India - Infected Cases - Vanilla LSTM')\n",
    "plt.show()\n",
    "\n",
    "# Finding Error between actual and predicted values\n",
    "pred_out\n",
    "pred = []\n",
    "for i in range(len(I_act)):\n",
    "  pred.append(pred_out[i])\n",
    "pred=np.asarray(pred)\n",
    "\n",
    "MSE = mean_squared_error(I_cases,pred)\n",
    "RMS = np.sqrt(MSE)\n",
    "#print(MSE, '\\t',RMS)\n",
    "\n",
    "total = I_cases[len(I_cases)-1]\n",
    "#print(total)\n",
    "\n",
    "percentage_error = (RMS*100)/total\n",
    "print(\"Percentage Error is :  \",percentage_error)"
   ]
  },
  {
   "cell_type": "markdown",
   "metadata": {
    "colab_type": "text",
    "id": "9tW73pxrNKd0"
   },
   "source": [
    "### Bidirectional LSTM"
   ]
  },
  {
   "cell_type": "markdown",
   "metadata": {
    "colab_type": "text",
    "id": "IhJ-dcdpAlgn"
   },
   "source": [
    "A Bi-LSTM network consisting of 50 ReLU-activated units is compiled again with the $Adam$ optimizer and Mean-Squared Error loss function. This is trained for 50 epochs.\n",
    "\n",
    "All hyperparameters are decided by trial and error."
   ]
  },
  {
   "cell_type": "code",
   "execution_count": 151,
   "metadata": {
    "colab": {
     "base_uri": "https://localhost:8080/",
     "height": 34
    },
    "colab_type": "code",
    "executionInfo": {
     "elapsed": 20053,
     "status": "ok",
     "timestamp": 1592679118902,
     "user": {
      "displayName": "Saniya Rahul Shinde 17241",
      "photoUrl": "",
      "userId": "11719832917019863318"
     },
     "user_tz": -330
    },
    "id": "jmdWbcK4NLew",
    "outputId": "0701ac83-7b1e-433b-e7ca-53f547eeaa85"
   },
   "outputs": [
    {
     "data": {
      "text/plain": [
       "142"
      ]
     },
     "execution_count": 151,
     "metadata": {
      "tags": []
     },
     "output_type": "execute_result"
    }
   ],
   "source": [
    "model = Sequential()\n",
    "model.add(Bidirectional(LSTM(50, activation='relu'), input_shape=(n_steps, n_features)))\n",
    "model.add(Dense(1))\n",
    "model.compile(optimizer='adam', loss='mse')\n",
    "\n",
    "x = x_raw.reshape(x_raw.shape[0], x_raw.shape[1], n_features)\n",
    "\n",
    "model.fit(x, y, epochs = 50, verbose = False)\n",
    "\n",
    "y_o = I_act[:n_steps]\n",
    "for i in range(len(I_cases)):\n",
    "    end = i + n_steps\n",
    "    if end == len(I_cases):\n",
    "        break\n",
    "    x_in = I_cases[i:end]\n",
    "    x_in = x_in.reshape(1, n_steps, n_features)\n",
    "    y_out = model.predict(x_in, verbose = 0)\n",
    "    y_o.append(int(y_out))\n",
    "\n",
    "pred_out = np.array(y_o)\n",
    "x_val = np.arange(len(I_act))\n",
    "\n",
    "pred_start = I_act[-n_steps:]\n",
    "\n",
    "for i in range(n_days):\n",
    "    end = i + n_steps\n",
    "    x_in = np.array(pred_start)[i:end]\n",
    "    x_in = x_in.reshape(1, n_steps, n_features)\n",
    "    y_out = model.predict(x_in, verbose = 0)\n",
    "    pred_start.append(int(y_out))\n",
    "    y_o.append(int(y_out))\n",
    "\n",
    "pred_out = np.array(y_o)\n",
    "x_val = np.arange(len(I_act))\n",
    "len(x_val)"
   ]
  },
  {
   "cell_type": "code",
   "execution_count": 152,
   "metadata": {
    "colab": {
     "base_uri": "https://localhost:8080/",
     "height": 312
    },
    "colab_type": "code",
    "executionInfo": {
     "elapsed": 20018,
     "status": "ok",
     "timestamp": 1592679118904,
     "user": {
      "displayName": "Saniya Rahul Shinde 17241",
      "photoUrl": "",
      "userId": "11719832917019863318"
     },
     "user_tz": -330
    },
    "id": "yHhsa5H7N0FO",
    "outputId": "21f8b8fa-fbad-4fd0-e121-813009589468"
   },
   "outputs": [
    {
     "data": {
      "image/png": "[encoded data removed]",
      "text/plain": [
       "<Figure size 432x288 with 1 Axes>"
      ]
     },
     "metadata": {
      "needs_background": "light",
      "tags": []
     },
     "output_type": "display_data"
    },
    {
     "name": "stdout",
     "output_type": "stream",
     "text": [
      "Percentage Error is :   0.40582002101510384\n"
     ]
    }
   ],
   "source": [
    "plt.plot(I_cases,label='Actual data',color='red',linewidth=3)\n",
    "plt.plot(pred_out,label='Predicted value',color='blue',linewidth=1)\n",
    "plt.legend(loc='best')\n",
    "plt.xlabel('No of days')\n",
    "plt.ylabel('No of people')\n",
    "plt.title('India - Infected Cases - Bidirectional LSTM')\n",
    "plt.show()\n",
    "\n",
    "pred_out\n",
    "pred = []\n",
    "for i in range(len(I_act)):\n",
    "  pred.append(pred_out[i])\n",
    "pred=np.asarray(pred)\n",
    "\n",
    "MSE = mean_squared_error(I_cases,pred)\n",
    "RMS = np.sqrt(MSE)\n",
    "#print(MSE, '\\t',RMS)\n",
    "\n",
    "total = I_cases[len(I_cases)-1]\n",
    "#print(total)\n",
    "\n",
    "percentage_error = (RMS*100)/total\n",
    "print(\"Percentage Error is :  \",percentage_error)"
   ]
  },
  {
   "cell_type": "markdown",
   "metadata": {
    "colab_type": "text",
    "id": "b14WgjbiMJGk"
   },
   "source": [
    "## Recovered Cases"
   ]
  },
  {
   "cell_type": "code",
   "execution_count": 214,
   "metadata": {
    "colab": {
     "base_uri": "https://localhost:8080/",
     "height": 1000
    },
    "colab_type": "code",
    "executionInfo": {
     "elapsed": 838,
     "status": "ok",
     "timestamp": 1592681358392,
     "user": {
      "displayName": "Saniya Rahul Shinde 17241",
      "photoUrl": "",
      "userId": "11719832917019863318"
     },
     "user_tz": -330
    },
    "id": "z706ATf0boD1",
    "outputId": "87fe466b-a044-4b80-899d-e17d81d98266"
   },
   "outputs": [
    {
     "name": "stdout",
     "output_type": "stream",
     "text": [
      "Day 0 : 0\n",
      "Day 1 : 0\n",
      "Day 2 : 0\n",
      "Day 3 : 0\n",
      "Day 4 : 0\n",
      "Day 5 : 0\n",
      "Day 6 : 0\n",
      "Day 7 : 0\n",
      "Day 8 : 0\n",
      "Day 9 : 0\n",
      "Day 10 : 0\n",
      "Day 11 : 0\n",
      "Day 12 : 0\n",
      "Day 13 : 0\n",
      "Day 14 : 0\n",
      "Day 15 : 0\n",
      "Day 16 : 0\n",
      "Day 17 : 3\n",
      "Day 18 : 3\n",
      "Day 19 : 3\n",
      "Day 20 : 3\n",
      "Day 21 : 3\n",
      "Day 22 : 3\n",
      "Day 23 : 3\n",
      "Day 24 : 3\n",
      "Day 25 : 3\n",
      "Day 26 : 3\n",
      "Day 27 : 3\n",
      "Day 28 : 3\n",
      "Day 29 : 3\n",
      "Day 30 : 3\n",
      "Day 31 : 3\n",
      "Day 32 : 3\n",
      "Day 33 : 3\n",
      "Day 34 : 3\n",
      "Day 35 : 3\n",
      "Day 36 : 3\n",
      "Day 37 : 3\n",
      "Day 38 : 3\n",
      "Day 39 : 3\n",
      "Day 40 : 4\n",
      "Day 41 : 4\n",
      "Day 42 : 4\n",
      "Day 43 : 4\n",
      "Day 44 : 4\n",
      "Day 45 : 13\n",
      "Day 46 : 13\n",
      "Day 47 : 14\n",
      "Day 48 : 14\n",
      "Day 49 : 15\n",
      "Day 50 : 20\n",
      "Day 51 : 23\n",
      "Day 52 : 27\n",
      "Day 53 : 27\n",
      "Day 54 : 40\n",
      "Day 55 : 43\n",
      "Day 56 : 45\n",
      "Day 57 : 73\n",
      "Day 58 : 84\n",
      "Day 59 : 95\n",
      "Day 60 : 102\n",
      "Day 61 : 123\n",
      "Day 62 : 148\n",
      "Day 63 : 191\n",
      "Day 64 : 192\n",
      "Day 65 : 229\n",
      "Day 66 : 229\n",
      "Day 67 : 375\n",
      "Day 68 : 421\n",
      "Day 69 : 506\n",
      "Day 70 : 620\n",
      "Day 71 : 774\n",
      "Day 72 : 969\n",
      "Day 73 : 1080\n",
      "Day 74 : 1181\n",
      "Day 75 : 1359\n",
      "Day 76 : 1432\n",
      "Day 77 : 1768\n",
      "Day 78 : 2041\n",
      "Day 79 : 2463\n",
      "Day 80 : 2854\n",
      "Day 81 : 3273\n",
      "Day 82 : 3975\n",
      "Day 83 : 4370\n",
      "Day 84 : 5012\n",
      "Day 85 : 5498\n",
      "Day 86 : 5939\n",
      "Day 87 : 6523\n",
      "Day 88 : 7137\n",
      "Day 89 : 7747\n",
      "Day 90 : 8437\n",
      "Day 91 : 9068\n",
      "Day 92 : 10007\n",
      "Day 93 : 10819\n",
      "Day 94 : 11775\n",
      "Day 95 : 12847\n",
      "Day 96 : 14142\n",
      "Day 97 : 15331\n",
      "Day 98 : 16776\n",
      "Day 99 : 17887\n",
      "Day 100 : 19301\n",
      "Day 101 : 20969\n",
      "Day 102 : 22549\n",
      "Day 103 : 24420\n",
      "Day 104 : 26400\n",
      "Day 105 : 27969\n",
      "Day 106 : 30258\n",
      "Day 107 : 34224\n",
      "Day 108 : 36795\n",
      "Day 109 : 39233\n",
      "Day 110 : 42309\n",
      "Day 111 : 45422\n",
      "Day 112 : 48553\n",
      "Day 113 : 51824\n",
      "Day 114 : 54385\n",
      "Day 115 : 57692\n",
      "Day 116 : 60706\n",
      "Day 117 : 64277\n",
      "Day 118 : 67749\n",
      "Day 119 : 70920\n",
      "Day 120 : 82627\n",
      "Day 121 : 86936\n",
      "Day 122 : 91852\n",
      "Day 123 : 95754\n",
      "Day 124 : 100285\n",
      "Day 125 : 104071\n",
      "Day 126 : 108450\n",
      "Day 127 : 113233\n",
      "Day 128 : 118695\n",
      "Day 129 : 123848\n",
      "Day 130 : 129095\n",
      "Day 131 : 134670\n",
      "Day 132 : 135206\n",
      "Day 133 : 147195\n",
      "Day 134 : 154330\n",
      "Day 135 : 162379\n",
      "Day 136 : 169798\n",
      "Day 137 : 180013\n",
      "Day 138 : 186935\n",
      "Day 139 : 194325\n",
      "Day 140 : 204711\n",
      "Day 141 : 213831\n"
     ]
    }
   ],
   "source": [
    "R_data = R_data.drop(columns=[\"Lat\",\"Long\"])\n",
    "new_R = R_data.loc[R_data[\"Country/Region\"]==\"India\"]\n",
    "R_act=[]\n",
    "\n",
    "new_R.iloc[0,2]\n",
    "\n",
    "for i in range(10,len(new_R.columns)):\n",
    "    R_act.append(new_R.iloc[0,i])\n",
    "\n",
    "for i in range(len(R_act)):\n",
    "    print('Day', i, ':', R_act[i])\n",
    "\n",
    "R_cases = np.asarray(R_act)\n",
    "\n",
    "x_raw, y = split_sequence(R_act, n_steps)"
   ]
  },
  {
   "cell_type": "markdown",
   "metadata": {
    "colab_type": "text",
    "id": "jNG6YysAMN1W"
   },
   "source": [
    "### Vanilla LSTM"
   ]
  },
  {
   "cell_type": "code",
   "execution_count": 215,
   "metadata": {
    "colab": {},
    "colab_type": "code",
    "executionInfo": {
     "elapsed": 7717,
     "status": "ok",
     "timestamp": 1592681367623,
     "user": {
      "displayName": "Saniya Rahul Shinde 17241",
      "photoUrl": "",
      "userId": "11719832917019863318"
     },
     "user_tz": -330
    },
    "id": "i247YCrHb7jd"
   },
   "outputs": [],
   "source": [
    "#Single LSTM\n",
    "model = Sequential()\n",
    "model.add(LSTM(50, activation = 'relu', input_shape = (n_steps, n_features)))\n",
    "model.add(Dense(1))\n",
    "model.compile(optimizer = 'adam', loss = 'mse')\n",
    "\n",
    "x = x_raw.reshape(x_raw.shape[0], x_raw.shape[1], n_features)\n",
    "model.fit(x, y, epochs = 200, verbose = False)\n",
    "\n",
    "y_o = R_act[:n_steps]\n",
    "for i in range(len(R_cases)):\n",
    "    end = i + n_steps\n",
    "    if end == len(R_cases):\n",
    "        break\n",
    "    x_in = R_cases[i:end]\n",
    "    x_in = x_in.reshape(1, n_steps, n_features)\n",
    "    y_out = model.predict(x_in, verbose = 0)\n",
    "    y_o.append(int(y_out))\n"
   ]
  },
  {
   "cell_type": "code",
   "execution_count": 216,
   "metadata": {
    "colab": {
     "base_uri": "https://localhost:8080/",
     "height": 34
    },
    "colab_type": "code",
    "executionInfo": {
     "elapsed": 6509,
     "status": "ok",
     "timestamp": 1592681367627,
     "user": {
      "displayName": "Saniya Rahul Shinde 17241",
      "photoUrl": "",
      "userId": "11719832917019863318"
     },
     "user_tz": -330
    },
    "id": "iPypN7Jyb8z9",
    "outputId": "bb6d91a6-1154-4f77-de0e-21fff3115967"
   },
   "outputs": [
    {
     "data": {
      "text/plain": [
       "142"
      ]
     },
     "execution_count": 216,
     "metadata": {
      "tags": []
     },
     "output_type": "execute_result"
    }
   ],
   "source": [
    "pred_start = R_act[-n_steps:]\n",
    "for i in range(pred_days):\n",
    "    end = i + n_steps\n",
    "    x_in = np.array(pred_start)[i:end]\n",
    "    x_in = x_in.reshape(1, n_steps, n_features)\n",
    "    y_out = model.predict(x_in, verbose = 0)\n",
    "    pred_start.append(int(y_out))\n",
    "    y_o.append(int(y_out))\n",
    "\n",
    "pred_out = np.array(y_o)\n",
    "x_val = np.arange(len(R_act))\n",
    "len(x_val)"
   ]
  },
  {
   "cell_type": "code",
   "execution_count": 217,
   "metadata": {
    "colab": {
     "base_uri": "https://localhost:8080/",
     "height": 312
    },
    "colab_type": "code",
    "executionInfo": {
     "elapsed": 1142,
     "status": "ok",
     "timestamp": 1592681370450,
     "user": {
      "displayName": "Saniya Rahul Shinde 17241",
      "photoUrl": "",
      "userId": "11719832917019863318"
     },
     "user_tz": -330
    },
    "id": "qOn1H1KVb8mG",
    "outputId": "9505018b-21e9-4205-ffa5-a99c2f667c59"
   },
   "outputs": [
    {
     "data": {
      "image/png": "[encoded data removed]",
      "text/plain": [
       "<Figure size 432x288 with 1 Axes>"
      ]
     },
     "metadata": {
      "needs_background": "light",
      "tags": []
     },
     "output_type": "display_data"
    },
    {
     "name": "stdout",
     "output_type": "stream",
     "text": [
      "Percentage Error is :   0.725001807134736\n"
     ]
    }
   ],
   "source": [
    "\n",
    "plt.plot(R_cases,label='Actual data',color='red',linewidth=3)\n",
    "plt.plot(pred_out,label='Predicted value',color='blue',linewidth=1)\n",
    "plt.legend(loc='best')\n",
    "plt.xlabel('No of days')\n",
    "plt.ylabel('No of people')\n",
    "plt.title('India - Recovered Cases - Vanilla LSTM')\n",
    "plt.show()\n",
    "\n",
    "pred_out\n",
    "\n",
    "pred = []\n",
    "for i in range(len(R_act)):\n",
    "  pred.append(pred_out[i])\n",
    "pred=np.asarray(pred)\n",
    "\n",
    "MSE = mean_squared_error(R_cases,pred)\n",
    "RMS = np.sqrt(MSE)\n",
    "#print(MSE, '\\t',RMS)\n",
    "\n",
    "total = R_cases[len(R_cases)-1]\n",
    "#print(total)\n",
    "\n",
    "percentage_error = (RMS*100)/total\n",
    "print(\"Percentage Error is :  \",percentage_error)"
   ]
  },
  {
   "cell_type": "markdown",
   "metadata": {
    "colab_type": "text",
    "id": "CN0P_Jl7NF-F"
   },
   "source": [
    "### Bidirectional LSTM"
   ]
  },
  {
   "cell_type": "code",
   "execution_count": 157,
   "metadata": {
    "colab": {
     "base_uri": "https://localhost:8080/",
     "height": 34
    },
    "colab_type": "code",
    "executionInfo": {
     "elapsed": 34694,
     "status": "ok",
     "timestamp": 1592679133757,
     "user": {
      "displayName": "Saniya Rahul Shinde 17241",
      "photoUrl": "",
      "userId": "11719832917019863318"
     },
     "user_tz": -330
    },
    "id": "0wOVMT23NGZe",
    "outputId": "50994641-5217-4fdc-bc5c-e29396156178"
   },
   "outputs": [
    {
     "data": {
      "text/plain": [
       "142"
      ]
     },
     "execution_count": 157,
     "metadata": {
      "tags": []
     },
     "output_type": "execute_result"
    }
   ],
   "source": [
    "model = Sequential()\n",
    "model.add(Bidirectional(LSTM(50, activation='relu'), input_shape=(n_steps, n_features)))\n",
    "model.add(Dense(1))\n",
    "model.compile(optimizer='adam', loss='mse')\n",
    "\n",
    "x = x_raw.reshape(x_raw.shape[0], x_raw.shape[1], n_features)\n",
    "\n",
    "model.fit(x, y, epochs = 50, verbose = False)\n",
    "\n",
    "y_o = R_act[:n_steps]\n",
    "for i in range(len(R_cases)):\n",
    "    end = i + n_steps\n",
    "    if end == len(R_cases):\n",
    "        break\n",
    "    x_in = R_cases[i:end]\n",
    "    x_in = x_in.reshape(1, n_steps, n_features)\n",
    "    y_out = model.predict(x_in, verbose = 0)\n",
    "    y_o.append(int(y_out))\n",
    "\n",
    "pred_out = np.array(y_o)\n",
    "x_val = np.arange(len(R_act))\n",
    "\n",
    "pred_start = R_act[-n_steps:]\n",
    "\n",
    "for i in range(n_days):\n",
    "    end = i + n_steps\n",
    "    x_in = np.array(pred_start)[i:end]\n",
    "    x_in = x_in.reshape(1, n_steps, n_features)\n",
    "    y_out = model.predict(x_in, verbose = 0)\n",
    "    pred_start.append(int(y_out))\n",
    "    y_o.append(int(y_out))\n",
    "\n",
    "pred_out = np.array(y_o)\n",
    "x_val = np.arange(len(R_act))\n",
    "len(x_val)"
   ]
  },
  {
   "cell_type": "code",
   "execution_count": 158,
   "metadata": {
    "colab": {
     "base_uri": "https://localhost:8080/",
     "height": 312
    },
    "colab_type": "code",
    "executionInfo": {
     "elapsed": 34680,
     "status": "ok",
     "timestamp": 1592679133761,
     "user": {
      "displayName": "Saniya Rahul Shinde 17241",
      "photoUrl": "",
      "userId": "11719832917019863318"
     },
     "user_tz": -330
    },
    "id": "jXZH2AYbNye0",
    "outputId": "b140056c-be95-48f7-bc11-099996477514"
   },
   "outputs": [
    {
     "data": {
      "image/png": "[encoded data removed]",
      "text/plain": [
       "<Figure size 432x288 with 1 Axes>"
      ]
     },
     "metadata": {
      "needs_background": "light",
      "tags": []
     },
     "output_type": "display_data"
    },
    {
     "name": "stdout",
     "output_type": "stream",
     "text": [
      "Percentage Error is :   0.6429919649309951\n"
     ]
    }
   ],
   "source": [
    "plt.plot(R_cases,label='Actual data',color='red',linewidth=3)\n",
    "plt.plot(pred_out,label='Predicted value',color='blue',linewidth=1)\n",
    "plt.legend(loc='best')\n",
    "plt.xlabel('No of days')\n",
    "plt.ylabel('No of people')\n",
    "plt.title('India - Recovered Cases - Bidirectional LSTM')\n",
    "plt.show()\n",
    "\n",
    "pred_out\n",
    "pred = []\n",
    "for i in range(len(R_act)):\n",
    "  pred.append(pred_out[i])\n",
    "pred=np.asarray(pred)\n",
    "\n",
    "MSE = mean_squared_error(R_cases,pred)\n",
    "RMS = np.sqrt(MSE)\n",
    "#print(MSE, '\\t',RMS)\n",
    "\n",
    "total = R_cases[len(R_cases)-1]\n",
    "#print(total)\n",
    "\n",
    "percentage_error = (RMS*100)/total\n",
    "print(\"Percentage Error is :  \",percentage_error)"
   ]
  },
  {
   "cell_type": "markdown",
   "metadata": {
    "colab_type": "text",
    "id": "Ut--ij7facLI"
   },
   "source": [
    "# Maharashtra\n"
   ]
  },
  {
   "cell_type": "code",
   "execution_count": 218,
   "metadata": {
    "colab": {
     "base_uri": "https://localhost:8080/",
     "height": 1000
    },
    "colab_type": "code",
    "executionInfo": {
     "elapsed": 1176,
     "status": "ok",
     "timestamp": 1592681380020,
     "user": {
      "displayName": "Saniya Rahul Shinde 17241",
      "photoUrl": "",
      "userId": "11719832917019863318"
     },
     "user_tz": -330
    },
    "id": "wGyG3b0-jU0i",
    "outputId": "c3aa85bd-14a8-4ca5-e045-f0fe03369f6f"
   },
   "outputs": [
    {
     "name": "stdout",
     "output_type": "stream",
     "text": [
      "Day 0 : 2\n",
      "Day 1 : 5\n",
      "Day 2 : 2\n",
      "Day 3 : 11\n",
      "Day 4 : 14\n",
      "Day 5 : 14\n",
      "Day 6 : 32\n",
      "Day 7 : 32\n",
      "Day 8 : 39\n",
      "Day 9 : 42\n",
      "Day 10 : 47\n",
      "Day 11 : 52\n",
      "Day 12 : 63\n",
      "Day 13 : 67\n",
      "Day 14 : 74\n",
      "Day 15 : 89\n",
      "Day 16 : 128\n",
      "Day 17 : 124\n",
      "Day 18 : 130\n",
      "Day 19 : 180\n",
      "Day 20 : 186\n",
      "Day 21 : 198\n",
      "Day 22 : 216\n",
      "Day 23 : 302\n",
      "Day 24 : 335\n",
      "Day 25 : 335\n",
      "Day 26 : 490\n",
      "Day 27 : 490\n",
      "Day 28 : 748\n",
      "Day 29 : 868\n",
      "Day 30 : 1018\n",
      "Day 31 : 1135\n",
      "Day 32 : 1364\n",
      "Day 33 : 1574\n",
      "Day 34 : 1761\n",
      "Day 35 : 1985\n",
      "Day 36 : 2337\n",
      "Day 37 : 2687\n",
      "Day 38 : 2919\n",
      "Day 39 : 3205\n",
      "Day 40 : 3323\n",
      "Day 41 : 3651\n",
      "Day 42 : 4203\n",
      "Day 43 : 4669\n",
      "Day 44 : 5221\n",
      "Day 45 : 5652\n",
      "Day 46 : 6430\n",
      "Day 47 : 6817\n",
      "Day 48 : 7628\n",
      "Day 49 : 8068\n",
      "Day 50 : 8590\n",
      "Day 51 : 9318\n",
      "Day 52 : 9915\n",
      "Day 53 : 10498\n",
      "Day 54 : 11506\n",
      "Day 55 : 12296\n",
      "Day 56 : 12974\n",
      "Day 57 : 14541\n",
      "Day 58 : 15525\n",
      "Day 59 : 16758\n",
      "Day 60 : 17974\n",
      "Day 61 : 19063\n",
      "Day 62 : 20228\n",
      "Day 63 : 22171\n",
      "Day 64 : 23401\n",
      "Day 65 : 24427\n",
      "Day 66 : 25922\n",
      "Day 67 : 27524\n",
      "Day 68 : 29100\n",
      "Day 69 : 30706\n",
      "Day 70 : 33053\n",
      "Day 71 : 35058\n",
      "Day 72 : 37136\n",
      "Day 73 : 39297\n",
      "Day 74 : 41642\n",
      "Day 75 : 44582\n",
      "Day 76 : 47190\n",
      "Day 77 : 50231\n",
      "Day 78 : 52667\n",
      "Day 79 : 54758\n",
      "Day 80 : 56948\n",
      "Day 81 : 59546\n",
      "Day 82 : 62228\n",
      "Day 83 : 65168\n",
      "Day 84 : 67655\n",
      "Day 85 : 70013\n",
      "Day 86 : 72300\n",
      "Day 87 : 74860\n",
      "Day 88 : 77793\n",
      "Day 89 : 80229\n",
      "Day 90 : 82968\n",
      "Day 91 : 85975\n",
      "Day 92 : 88528\n",
      "Day 93 : 90787\n",
      "Day 94 : 94041\n",
      "Day 95 : 97648\n",
      "Day 96 : 101141\n",
      "Day 97 : 104568\n",
      "Day 98 : 107958\n",
      "Day 99 : 110744\n",
      "Day 100 : 113445\n",
      "Day 101 : 116752\n",
      "Day 102 : 120504\n"
     ]
    }
   ],
   "source": [
    "maha = covid_india_data.loc[covid_india_data['State/UnionTerritory'] == 'Maharashtra']\n",
    "mahacases = maha.Confirmed.to_numpy()\n",
    "mahalist = list(mahacases)\n",
    "for i in range(len(mahalist)):\n",
    "    print('Day', i, ':', mahalist[i])\n",
    "\n",
    "x_raw, y = split_sequence(mahalist, n_steps)"
   ]
  },
  {
   "cell_type": "markdown",
   "metadata": {
    "colab_type": "text",
    "id": "E3BmszWZMAPW"
   },
   "source": [
    "## Vanilla LSTM"
   ]
  },
  {
   "cell_type": "code",
   "execution_count": 219,
   "metadata": {
    "colab": {},
    "colab_type": "code",
    "executionInfo": {
     "elapsed": 6172,
     "status": "ok",
     "timestamp": 1592681387673,
     "user": {
      "displayName": "Saniya Rahul Shinde 17241",
      "photoUrl": "",
      "userId": "11719832917019863318"
     },
     "user_tz": -330
    },
    "id": "9FVTPkz-jeK5"
   },
   "outputs": [],
   "source": [
    "#Single LSTM\n",
    "model = Sequential()\n",
    "model.add(LSTM(50, activation = 'relu', input_shape = (n_steps, n_features)))\n",
    "model.add(Dense(1))\n",
    "model.compile(optimizer = 'adam', loss = 'mse')\n",
    "\n",
    "x = x_raw.reshape(x_raw.shape[0], x_raw.shape[1], n_features)\n",
    "model.fit(x, y, epochs = 200, verbose = False)\n",
    "\n",
    "y_o = mahalist[:n_steps]\n",
    "for i in range(len(mahacases)):\n",
    "    end = i + n_steps\n",
    "    if end == len(mahacases):\n",
    "        break\n",
    "    x_in = mahacases[i:end]\n",
    "    x_in = x_in.reshape(1, n_steps, n_features)\n",
    "    y_out = model.predict(x_in, verbose = 0)\n",
    "    y_o.append(int(y_out))"
   ]
  },
  {
   "cell_type": "code",
   "execution_count": 220,
   "metadata": {
    "colab": {
     "base_uri": "https://localhost:8080/",
     "height": 34
    },
    "colab_type": "code",
    "executionInfo": {
     "elapsed": 4924,
     "status": "ok",
     "timestamp": 1592681387676,
     "user": {
      "displayName": "Saniya Rahul Shinde 17241",
      "photoUrl": "",
      "userId": "11719832917019863318"
     },
     "user_tz": -330
    },
    "id": "YzAjfoDBkGob",
    "outputId": "f736624b-e36a-4c80-983a-8d15521b2f5e"
   },
   "outputs": [
    {
     "data": {
      "text/plain": [
       "103"
      ]
     },
     "execution_count": 220,
     "metadata": {
      "tags": []
     },
     "output_type": "execute_result"
    }
   ],
   "source": [
    "pred_start = mahalist[-n_steps:]\n",
    "for i in range(pred_days):\n",
    "    end = i + n_steps\n",
    "    x_in = np.array(pred_start)[i:end]\n",
    "    x_in = x_in.reshape(1, n_steps, n_features)\n",
    "    y_out = model.predict(x_in, verbose = 0)\n",
    "    pred_start.append(int(y_out))\n",
    "    y_o.append(int(y_out))\n",
    "\n",
    "pred_out = np.array(y_o)\n",
    "x_val = np.arange(len(mahalist))\n",
    "len(x_val)\n"
   ]
  },
  {
   "cell_type": "code",
   "execution_count": 221,
   "metadata": {
    "colab": {
     "base_uri": "https://localhost:8080/",
     "height": 312
    },
    "colab_type": "code",
    "executionInfo": {
     "elapsed": 4573,
     "status": "ok",
     "timestamp": 1592681388307,
     "user": {
      "displayName": "Saniya Rahul Shinde 17241",
      "photoUrl": "",
      "userId": "11719832917019863318"
     },
     "user_tz": -330
    },
    "id": "Vd8RqI-pkQTt",
    "outputId": "7a31bd56-814e-4aa3-893e-ad461efb8b71"
   },
   "outputs": [
    {
     "data": {
      "image/png": "[encoded data removed]",
      "text/plain": [
       "<Figure size 432x288 with 1 Axes>"
      ]
     },
     "metadata": {
      "needs_background": "light",
      "tags": []
     },
     "output_type": "display_data"
    },
    {
     "name": "stdout",
     "output_type": "stream",
     "text": [
      "Percentage Error is :   0.8885341214001575\n"
     ]
    }
   ],
   "source": [
    "plt.plot(mahacases,label='Actual data',color='red',linewidth=3)\n",
    "plt.plot(pred_out,label='Predicted value',color='blue',linewidth=1)\n",
    "plt.legend(loc='best')\n",
    "plt.xlabel('No of days')\n",
    "plt.ylabel('No of people')\n",
    "plt.title('Maharashtra - Infected Cases - Vanilla LSTM')\n",
    "plt.show()\n",
    "\n",
    "pred_out\n",
    "\n",
    "pred = []\n",
    "for i in range(len(mahalist)):\n",
    "  pred.append(pred_out[i])\n",
    "pred=np.asarray(pred)\n",
    "\n",
    "MSE = mean_squared_error(mahacases,pred)\n",
    "RMS = np.sqrt(MSE)\n",
    "#print(MSE, '\\t',RMS)\n",
    "\n",
    "total = mahacases[len(mahacases)-1]\n",
    "#print(total)\n",
    "\n",
    "percentage_error = (RMS*100)/total\n",
    "print(\"Percentage Error is :  \",percentage_error)"
   ]
  },
  {
   "cell_type": "markdown",
   "metadata": {
    "colab_type": "text",
    "id": "SIFOK7MDNAgL"
   },
   "source": [
    "## Bidirectional LSTM"
   ]
  },
  {
   "cell_type": "code",
   "execution_count": 163,
   "metadata": {
    "colab": {
     "base_uri": "https://localhost:8080/",
     "height": 34
    },
    "colab_type": "code",
    "executionInfo": {
     "elapsed": 48007,
     "status": "ok",
     "timestamp": 1592679147165,
     "user": {
      "displayName": "Saniya Rahul Shinde 17241",
      "photoUrl": "",
      "userId": "11719832917019863318"
     },
     "user_tz": -330
    },
    "id": "UaRzgQi2NA6u",
    "outputId": "bd5118a7-1a9c-4a4c-ca28-69ab7aec1291"
   },
   "outputs": [
    {
     "data": {
      "text/plain": [
       "103"
      ]
     },
     "execution_count": 163,
     "metadata": {
      "tags": []
     },
     "output_type": "execute_result"
    }
   ],
   "source": [
    "model = Sequential()\n",
    "model.add(Bidirectional(LSTM(50, activation='relu'), input_shape=(n_steps, n_features)))\n",
    "model.add(Dense(1))\n",
    "model.compile(optimizer='adam', loss='mse')\n",
    "\n",
    "x = x_raw.reshape(x_raw.shape[0], x_raw.shape[1], n_features)\n",
    "\n",
    "model.fit(x, y, epochs = 50, verbose = False)\n",
    "\n",
    "y_o = mahalist[:n_steps]\n",
    "for i in range(len(mahacases)):\n",
    "    end = i + n_steps\n",
    "    if end == len(mahacases):\n",
    "        break\n",
    "    x_in = mahacases[i:end]\n",
    "    x_in = x_in.reshape(1, n_steps, n_features)\n",
    "    y_out = model.predict(x_in, verbose = 0)\n",
    "    y_o.append(int(y_out))\n",
    "\n",
    "pred_out = np.array(y_o)\n",
    "x_val = np.arange(len(mahalist))\n",
    "\n",
    "pred_start = mahalist[-n_steps:]\n",
    "\n",
    "for i in range(n_days):\n",
    "    end = i + n_steps\n",
    "    x_in = np.array(pred_start)[i:end]\n",
    "    x_in = x_in.reshape(1, n_steps, n_features)\n",
    "    y_out = model.predict(x_in, verbose = 0)\n",
    "    pred_start.append(int(y_out))\n",
    "    y_o.append(int(y_out))\n",
    "\n",
    "pred_out = np.array(y_o)\n",
    "x_val = np.arange(len(mahalist))\n",
    "len(x_val)"
   ]
  },
  {
   "cell_type": "code",
   "execution_count": 164,
   "metadata": {
    "colab": {
     "base_uri": "https://localhost:8080/",
     "height": 312
    },
    "colab_type": "code",
    "executionInfo": {
     "elapsed": 47993,
     "status": "ok",
     "timestamp": 1592679147167,
     "user": {
      "displayName": "Saniya Rahul Shinde 17241",
      "photoUrl": "",
      "userId": "11719832917019863318"
     },
     "user_tz": -330
    },
    "id": "9ziemRJ3Nwm5",
    "outputId": "c0a595b2-af75-40e0-b7ff-530e6bd6d29f"
   },
   "outputs": [
    {
     "data": {
      "image/png": "[encoded data removed]",
      "text/plain": [
       "<Figure size 432x288 with 1 Axes>"
      ]
     },
     "metadata": {
      "needs_background": "light",
      "tags": []
     },
     "output_type": "display_data"
    },
    {
     "name": "stdout",
     "output_type": "stream",
     "text": [
      "Percentage Error is :   0.7435839441853318\n"
     ]
    }
   ],
   "source": [
    "plt.plot(mahacases,label='Actual data',color='red',linewidth=3)\n",
    "plt.plot(pred_out,label='Predicted value',color='blue',linewidth=1)\n",
    "plt.legend(loc='best')\n",
    "plt.xlabel('No of days')\n",
    "plt.ylabel('No of people')\n",
    "plt.title('Maharashtra - Infected Cases - Bidirectional LSTM')\n",
    "plt.show()\n",
    "\n",
    "pred_out\n",
    "pred = []\n",
    "for i in range(len(mahalist)):\n",
    "  pred.append(pred_out[i])\n",
    "pred=np.asarray(pred)\n",
    "\n",
    "MSE = mean_squared_error(mahacases,pred)\n",
    "RMS = np.sqrt(MSE)\n",
    "#print(MSE, '\\t',RMS)\n",
    "\n",
    "total = mahacases[len(mahacases)-1]\n",
    "#print(total)\n",
    "\n",
    "percentage_error = (RMS*100)/total\n",
    "print(\"Percentage Error is :  \",percentage_error)"
   ]
  },
  {
   "cell_type": "markdown",
   "metadata": {
    "colab_type": "text",
    "id": "wDoP30nCagPI"
   },
   "source": [
    "# Tamil Nadu"
   ]
  },
  {
   "cell_type": "code",
   "execution_count": 222,
   "metadata": {
    "colab": {
     "base_uri": "https://localhost:8080/",
     "height": 1000
    },
    "colab_type": "code",
    "executionInfo": {
     "elapsed": 886,
     "status": "ok",
     "timestamp": 1592681393128,
     "user": {
      "displayName": "Saniya Rahul Shinde 17241",
      "photoUrl": "",
      "userId": "11719832917019863318"
     },
     "user_tz": -330
    },
    "id": "bgjDNpYaxJQP",
    "outputId": "94328eac-7c6a-4dd5-d747-64137d23c6f7"
   },
   "outputs": [
    {
     "name": "stdout",
     "output_type": "stream",
     "text": [
      "Day 0 : 1\n",
      "Day 1 : 1\n",
      "Day 2 : 1\n",
      "Day 3 : 1\n",
      "Day 4 : 1\n",
      "Day 5 : 1\n",
      "Day 6 : 1\n",
      "Day 7 : 1\n",
      "Day 8 : 1\n",
      "Day 9 : 1\n",
      "Day 10 : 1\n",
      "Day 11 : 1\n",
      "Day 12 : 2\n",
      "Day 13 : 3\n",
      "Day 14 : 3\n",
      "Day 15 : 7\n",
      "Day 16 : 9\n",
      "Day 17 : 15\n",
      "Day 18 : 18\n",
      "Day 19 : 26\n",
      "Day 20 : 29\n",
      "Day 21 : 40\n",
      "Day 22 : 49\n",
      "Day 23 : 67\n",
      "Day 24 : 74\n",
      "Day 25 : 234\n",
      "Day 26 : 234\n",
      "Day 27 : 309\n",
      "Day 28 : 411\n",
      "Day 29 : 485\n",
      "Day 30 : 571\n",
      "Day 31 : 621\n",
      "Day 32 : 690\n",
      "Day 33 : 738\n",
      "Day 34 : 834\n",
      "Day 35 : 911\n",
      "Day 36 : 969\n",
      "Day 37 : 1075\n",
      "Day 38 : 1173\n",
      "Day 39 : 1204\n",
      "Day 40 : 1242\n",
      "Day 41 : 1267\n",
      "Day 42 : 1323\n",
      "Day 43 : 1372\n",
      "Day 44 : 1477\n",
      "Day 45 : 1520\n",
      "Day 46 : 1596\n",
      "Day 47 : 1629\n",
      "Day 48 : 1683\n",
      "Day 49 : 1755\n",
      "Day 50 : 1821\n",
      "Day 51 : 1885\n",
      "Day 52 : 1937\n",
      "Day 53 : 2058\n",
      "Day 54 : 2162\n",
      "Day 55 : 2323\n",
      "Day 56 : 2526\n",
      "Day 57 : 2757\n",
      "Day 58 : 3023\n",
      "Day 59 : 3550\n",
      "Day 60 : 4058\n",
      "Day 61 : 4829\n",
      "Day 62 : 5409\n",
      "Day 63 : 6009\n",
      "Day 64 : 6535\n",
      "Day 65 : 7204\n",
      "Day 66 : 8002\n",
      "Day 67 : 8718\n",
      "Day 68 : 9227\n",
      "Day 69 : 9674\n",
      "Day 70 : 10108\n",
      "Day 71 : 10585\n",
      "Day 72 : 11224\n",
      "Day 73 : 11760\n",
      "Day 74 : 12448\n",
      "Day 75 : 13191\n",
      "Day 76 : 13967\n",
      "Day 77 : 14753\n",
      "Day 78 : 15512\n",
      "Day 79 : 16277\n",
      "Day 80 : 17082\n",
      "Day 81 : 17728\n",
      "Day 82 : 18545\n",
      "Day 83 : 19372\n",
      "Day 84 : 20246\n",
      "Day 85 : 21184\n",
      "Day 86 : 22333\n",
      "Day 87 : 23495\n",
      "Day 88 : 24586\n",
      "Day 89 : 25872\n",
      "Day 90 : 27256\n",
      "Day 91 : 28694\n",
      "Day 92 : 30152\n",
      "Day 93 : 31667\n",
      "Day 94 : 33229\n",
      "Day 95 : 34914\n",
      "Day 96 : 36841\n",
      "Day 97 : 38716\n",
      "Day 98 : 40698\n",
      "Day 99 : 42687\n",
      "Day 100 : 44661\n",
      "Day 101 : 46504\n",
      "Day 102 : 48019\n",
      "Day 103 : 50193\n",
      "Day 104 : 52334\n"
     ]
    }
   ],
   "source": [
    "tn = covid_india_data.loc[covid_india_data['State/UnionTerritory'] == 'Tamil Nadu']\n",
    "tncases = tn.Confirmed.to_numpy()\n",
    "tnlist = list(tncases)\n",
    "for i in range(len(tnlist)):\n",
    "    print('Day', i, ':', tnlist[i])\n",
    "\n",
    "x_raw, y = split_sequence(tnlist, n_steps)"
   ]
  },
  {
   "cell_type": "markdown",
   "metadata": {
    "colab_type": "text",
    "id": "aG5jQK5HL8QC"
   },
   "source": [
    "## Vanilla LSTM"
   ]
  },
  {
   "cell_type": "code",
   "execution_count": 223,
   "metadata": {
    "colab": {},
    "colab_type": "code",
    "executionInfo": {
     "elapsed": 6713,
     "status": "ok",
     "timestamp": 1592681401427,
     "user": {
      "displayName": "Saniya Rahul Shinde 17241",
      "photoUrl": "",
      "userId": "11719832917019863318"
     },
     "user_tz": -330
    },
    "id": "LqAseSBxjdHd"
   },
   "outputs": [],
   "source": [
    "#Single LSTM\n",
    "model = Sequential()\n",
    "model.add(LSTM(50, activation = 'relu', input_shape = (n_steps, n_features)))\n",
    "model.add(Dense(1))\n",
    "model.compile(optimizer = 'adam', loss = 'mse')\n",
    "\n",
    "x = x_raw.reshape(x_raw.shape[0], x_raw.shape[1], n_features)\n",
    "model.fit(x, y, epochs = 200, verbose = False)\n",
    "\n",
    "y_o = tnlist[:n_steps]\n",
    "for i in range(len(tncases)):\n",
    "    end = i + n_steps\n",
    "    if end == len(tncases):\n",
    "        break\n",
    "    x_in = tncases[i:end]\n",
    "    x_in = x_in.reshape(1, n_steps, n_features)\n",
    "    y_out = model.predict(x_in, verbose = 0)\n",
    "    y_o.append(int(y_out))\n",
    "\n"
   ]
  },
  {
   "cell_type": "code",
   "execution_count": 224,
   "metadata": {
    "colab": {
     "base_uri": "https://localhost:8080/",
     "height": 34
    },
    "colab_type": "code",
    "executionInfo": {
     "elapsed": 5550,
     "status": "ok",
     "timestamp": 1592681401430,
     "user": {
      "displayName": "Saniya Rahul Shinde 17241",
      "photoUrl": "",
      "userId": "11719832917019863318"
     },
     "user_tz": -330
    },
    "id": "jxbBxTrnkFiy",
    "outputId": "64194f83-2194-4f75-b658-05030c5ad2d7"
   },
   "outputs": [
    {
     "data": {
      "text/plain": [
       "105"
      ]
     },
     "execution_count": 224,
     "metadata": {
      "tags": []
     },
     "output_type": "execute_result"
    }
   ],
   "source": [
    "pred_start = tnlist[-n_steps:]\n",
    "for i in range(pred_days):\n",
    "    end = i + n_steps\n",
    "    x_in = np.array(pred_start)[i:end]\n",
    "    x_in = x_in.reshape(1, n_steps, n_features)\n",
    "    y_out = model.predict(x_in, verbose = 0)\n",
    "    pred_start.append(int(y_out))\n",
    "    y_o.append(int(y_out))\n",
    "\n",
    "pred_out = np.array(y_o)\n",
    "x_val = np.arange(len(tnlist))\n",
    "len(x_val)\n"
   ]
  },
  {
   "cell_type": "code",
   "execution_count": 225,
   "metadata": {
    "colab": {
     "base_uri": "https://localhost:8080/",
     "height": 312
    },
    "colab_type": "code",
    "executionInfo": {
     "elapsed": 5169,
     "status": "ok",
     "timestamp": 1592681401866,
     "user": {
      "displayName": "Saniya Rahul Shinde 17241",
      "photoUrl": "",
      "userId": "11719832917019863318"
     },
     "user_tz": -330
    },
    "id": "iBiIW0fnkPKI",
    "outputId": "37acaf4e-0350-41e8-80bb-ef2a9a506ade"
   },
   "outputs": [
    {
     "data": {
      "image/png": "[encoded data removed]",
      "text/plain": [
       "<Figure size 432x288 with 1 Axes>"
      ]
     },
     "metadata": {
      "needs_background": "light",
      "tags": []
     },
     "output_type": "display_data"
    },
    {
     "name": "stdout",
     "output_type": "stream",
     "text": [
      "Percentage Error is :   0.5241873704148443\n"
     ]
    }
   ],
   "source": [
    "plt.plot(tncases,label='Actual data',color='red',linewidth=3)\n",
    "plt.plot(pred_out,label='Predicted value',color='blue',linewidth=1)\n",
    "plt.legend(loc='best')\n",
    "plt.xlabel('No of days')\n",
    "plt.ylabel('No of people')\n",
    "plt.title('Tamil Nadu - Infected Cases - Vanilla LSTM')\n",
    "plt.show()\n",
    "\n",
    "pred_out\n",
    "pred = []\n",
    "for i in range(len(tnlist)):\n",
    "  pred.append(pred_out[i])\n",
    "pred=np.asarray(pred)\n",
    "\n",
    "MSE = mean_squared_error(tncases,pred)\n",
    "RMS = np.sqrt(MSE)\n",
    "#print(MSE, '\\t',RMS)\n",
    "\n",
    "total = tncases[len(tncases)-1]\n",
    "#print(total)\n",
    "\n",
    "percentage_error = (RMS*100)/total\n",
    "print(\"Percentage Error is :  \",percentage_error)"
   ]
  },
  {
   "cell_type": "markdown",
   "metadata": {
    "colab_type": "text",
    "id": "GfTXQHqUM7zB"
   },
   "source": [
    "## Bidirectional LSTM"
   ]
  },
  {
   "cell_type": "code",
   "execution_count": 169,
   "metadata": {
    "colab": {
     "base_uri": "https://localhost:8080/",
     "height": 34
    },
    "colab_type": "code",
    "executionInfo": {
     "elapsed": 59402,
     "status": "ok",
     "timestamp": 1592679158658,
     "user": {
      "displayName": "Saniya Rahul Shinde 17241",
      "photoUrl": "",
      "userId": "11719832917019863318"
     },
     "user_tz": -330
    },
    "id": "Axp-nietM8Pd",
    "outputId": "024b8635-01e3-4e4e-a559-2c57a47a3767"
   },
   "outputs": [
    {
     "data": {
      "text/plain": [
       "105"
      ]
     },
     "execution_count": 169,
     "metadata": {
      "tags": []
     },
     "output_type": "execute_result"
    }
   ],
   "source": [
    "model = Sequential()\n",
    "model.add(Bidirectional(LSTM(50, activation='relu'), input_shape=(n_steps, n_features)))\n",
    "model.add(Dense(1))\n",
    "model.compile(optimizer='adam', loss='mse')\n",
    "\n",
    "x = x_raw.reshape(x_raw.shape[0], x_raw.shape[1], n_features)\n",
    "\n",
    "model.fit(x, y, epochs = 50, verbose = False)\n",
    "\n",
    "y_o = tnlist[:n_steps]\n",
    "for i in range(len(tncases)):\n",
    "    end = i + n_steps\n",
    "    if end == len(tncases):\n",
    "        break\n",
    "    x_in = tncases[i:end]\n",
    "    x_in = x_in.reshape(1, n_steps, n_features)\n",
    "    y_out = model.predict(x_in, verbose = 0)\n",
    "    y_o.append(int(y_out))\n",
    "\n",
    "pred_out = np.array(y_o)\n",
    "x_val = np.arange(len(tnlist))\n",
    "\n",
    "pred_start = tnlist[-n_steps:]\n",
    "\n",
    "for i in range(n_days):\n",
    "    end = i + n_steps\n",
    "    x_in = np.array(pred_start)[i:end]\n",
    "    x_in = x_in.reshape(1, n_steps, n_features)\n",
    "    y_out = model.predict(x_in, verbose = 0)\n",
    "    pred_start.append(int(y_out))\n",
    "    y_o.append(int(y_out))\n",
    "\n",
    "pred_out = np.array(y_o)\n",
    "x_val = np.arange(len(tnlist))\n",
    "len(x_val)"
   ]
  },
  {
   "cell_type": "code",
   "execution_count": 170,
   "metadata": {
    "colab": {
     "base_uri": "https://localhost:8080/",
     "height": 312
    },
    "colab_type": "code",
    "executionInfo": {
     "elapsed": 59387,
     "status": "ok",
     "timestamp": 1592679158660,
     "user": {
      "displayName": "Saniya Rahul Shinde 17241",
      "photoUrl": "",
      "userId": "11719832917019863318"
     },
     "user_tz": -330
    },
    "id": "glKiY2EdNu5j",
    "outputId": "7ee9494f-ca9f-4c14-bf38-64ac16aed254"
   },
   "outputs": [
    {
     "data": {
      "image/png": "[encoded data removed]",
      "text/plain": [
       "<Figure size 432x288 with 1 Axes>"
      ]
     },
     "metadata": {
      "needs_background": "light",
      "tags": []
     },
     "output_type": "display_data"
    },
    {
     "name": "stdout",
     "output_type": "stream",
     "text": [
      "Percentage Error is :   0.5066758874263828\n"
     ]
    }
   ],
   "source": [
    "plt.plot(tncases,label='Actual data',color='red',linewidth=3)\n",
    "plt.plot(pred_out,label='Predicted value',color='blue',linewidth=1)\n",
    "plt.legend(loc='best')\n",
    "plt.xlabel('No of days')\n",
    "plt.ylabel('No of people')\n",
    "plt.title('Tamil Nadu - Infected Cases - Bidirectional LSTM')\n",
    "plt.show()\n",
    "\n",
    "pred_out\n",
    "pred = []\n",
    "for i in range(len(tnlist)):\n",
    "  pred.append(pred_out[i])\n",
    "pred=np.asarray(pred)\n",
    "\n",
    "MSE = mean_squared_error(tncases,pred)\n",
    "RMS = np.sqrt(MSE)\n",
    "#print(MSE, '\\t',RMS)\n",
    "\n",
    "total = tncases[len(tncases)-1]\n",
    "#print(total)\n",
    "\n",
    "percentage_error = (RMS*100)/total\n",
    "print(\"Percentage Error is :  \",percentage_error)"
   ]
  },
  {
   "cell_type": "markdown",
   "metadata": {
    "colab_type": "text",
    "id": "vYloxLwdajK4"
   },
   "source": [
    "# Delhi"
   ]
  },
  {
   "cell_type": "code",
   "execution_count": 226,
   "metadata": {
    "colab": {
     "base_uri": "https://localhost:8080/",
     "height": 1000
    },
    "colab_type": "code",
    "executionInfo": {
     "elapsed": 905,
     "status": "ok",
     "timestamp": 1592681408331,
     "user": {
      "displayName": "Saniya Rahul Shinde 17241",
      "photoUrl": "",
      "userId": "11719832917019863318"
     },
     "user_tz": -330
    },
    "id": "FPSG0-cQjTCN",
    "outputId": "457f989b-bb6c-48d4-8b81-8f7b9a551dd9"
   },
   "outputs": [
    {
     "name": "stdout",
     "output_type": "stream",
     "text": [
      "Day 0 : 1\n",
      "Day 1 : 1\n",
      "Day 2 : 1\n",
      "Day 3 : 2\n",
      "Day 4 : 3\n",
      "Day 5 : 3\n",
      "Day 6 : 3\n",
      "Day 7 : 4\n",
      "Day 8 : 4\n",
      "Day 9 : 5\n",
      "Day 10 : 6\n",
      "Day 11 : 6\n",
      "Day 12 : 7\n",
      "Day 13 : 7\n",
      "Day 14 : 7\n",
      "Day 15 : 8\n",
      "Day 16 : 10\n",
      "Day 17 : 12\n",
      "Day 18 : 17\n",
      "Day 19 : 26\n",
      "Day 20 : 29\n",
      "Day 21 : 29\n",
      "Day 22 : 30\n",
      "Day 23 : 31\n",
      "Day 24 : 36\n",
      "Day 25 : 36\n",
      "Day 26 : 39\n",
      "Day 27 : 49\n",
      "Day 28 : 87\n",
      "Day 29 : 97\n",
      "Day 30 : 152\n",
      "Day 31 : 219\n",
      "Day 32 : 219\n",
      "Day 33 : 445\n",
      "Day 34 : 503\n",
      "Day 35 : 523\n",
      "Day 36 : 576\n",
      "Day 37 : 576\n",
      "Day 38 : 669\n",
      "Day 39 : 898\n",
      "Day 40 : 903\n",
      "Day 41 : 1069\n",
      "Day 42 : 1154\n",
      "Day 43 : 1510\n",
      "Day 44 : 1561\n",
      "Day 45 : 1578\n",
      "Day 46 : 1640\n",
      "Day 47 : 1707\n",
      "Day 48 : 1893\n",
      "Day 49 : 2003\n",
      "Day 50 : 2081\n",
      "Day 51 : 2156\n",
      "Day 52 : 2248\n",
      "Day 53 : 2376\n",
      "Day 54 : 2514\n",
      "Day 55 : 2625\n",
      "Day 56 : 2918\n",
      "Day 57 : 3108\n",
      "Day 58 : 3314\n",
      "Day 59 : 3439\n",
      "Day 60 : 3515\n",
      "Day 61 : 3738\n",
      "Day 62 : 4122\n",
      "Day 63 : 4549\n",
      "Day 64 : 4898\n",
      "Day 65 : 5104\n",
      "Day 66 : 5532\n",
      "Day 67 : 5980\n",
      "Day 68 : 6318\n",
      "Day 69 : 6542\n",
      "Day 70 : 6923\n",
      "Day 71 : 7233\n",
      "Day 72 : 7639\n",
      "Day 73 : 7998\n",
      "Day 74 : 8470\n",
      "Day 75 : 8895\n",
      "Day 76 : 9333\n",
      "Day 77 : 10054\n",
      "Day 78 : 10054\n",
      "Day 79 : 10554\n",
      "Day 80 : 11088\n",
      "Day 81 : 11659\n",
      "Day 82 : 12319\n",
      "Day 83 : 12910\n",
      "Day 84 : 13418\n",
      "Day 85 : 14053\n",
      "Day 86 : 14465\n",
      "Day 87 : 15257\n",
      "Day 88 : 16281\n",
      "Day 89 : 17386\n",
      "Day 90 : 18549\n",
      "Day 91 : 19844\n",
      "Day 92 : 20834\n",
      "Day 93 : 22132\n",
      "Day 94 : 23645\n",
      "Day 95 : 25004\n",
      "Day 96 : 26334\n",
      "Day 97 : 27654\n",
      "Day 98 : 27654\n",
      "Day 99 : 29943\n",
      "Day 100 : 31309\n",
      "Day 101 : 32810\n",
      "Day 102 : 34687\n",
      "Day 103 : 36824\n",
      "Day 104 : 38958\n",
      "Day 105 : 41182\n",
      "Day 106 : 42829\n",
      "Day 107 : 44688\n",
      "Day 108 : 47102\n",
      "Day 109 : 49979\n"
     ]
    }
   ],
   "source": [
    "delhi = covid_india_data.loc[covid_india_data['State/UnionTerritory'] == 'Delhi']\n",
    "delhicases = delhi.Confirmed.to_numpy()\n",
    "delhilist = list(delhicases)\n",
    "for i in range(len(delhilist)):\n",
    "    print('Day', i, ':', delhilist[i])\n",
    "\n",
    "x_raw, y = split_sequence(delhilist, n_steps)"
   ]
  },
  {
   "cell_type": "markdown",
   "metadata": {
    "colab_type": "text",
    "id": "BfcrN_R6L5nd"
   },
   "source": [
    "## Vanilla LSTM"
   ]
  },
  {
   "cell_type": "code",
   "execution_count": 227,
   "metadata": {
    "colab": {},
    "colab_type": "code",
    "executionInfo": {
     "elapsed": 6379,
     "status": "ok",
     "timestamp": 1592681416148,
     "user": {
      "displayName": "Saniya Rahul Shinde 17241",
      "photoUrl": "",
      "userId": "11719832917019863318"
     },
     "user_tz": -330
    },
    "id": "tf1vNrTYjcI6"
   },
   "outputs": [],
   "source": [
    "#Single LSTM\n",
    "model = Sequential()\n",
    "model.add(LSTM(50, activation = 'relu', input_shape = (n_steps, n_features)))\n",
    "model.add(Dense(1))\n",
    "model.compile(optimizer = 'adam', loss = 'mse')\n",
    "\n",
    "x = x_raw.reshape(x_raw.shape[0], x_raw.shape[1], n_features)\n",
    "model.fit(x, y, epochs = 200, verbose = False)\n",
    "\n",
    "y_o = delhilist[:n_steps]\n",
    "for i in range(len(delhicases)):\n",
    "    end = i + n_steps\n",
    "    if end == len(delhicases):\n",
    "        break\n",
    "    x_in = delhicases[i:end]\n",
    "    x_in = x_in.reshape(1, n_steps, n_features)\n",
    "    y_out = model.predict(x_in, verbose = 0)\n",
    "    y_o.append(int(y_out))\n",
    "\n"
   ]
  },
  {
   "cell_type": "code",
   "execution_count": 228,
   "metadata": {
    "colab": {
     "base_uri": "https://localhost:8080/",
     "height": 34
    },
    "colab_type": "code",
    "executionInfo": {
     "elapsed": 5465,
     "status": "ok",
     "timestamp": 1592681416152,
     "user": {
      "displayName": "Saniya Rahul Shinde 17241",
      "photoUrl": "",
      "userId": "11719832917019863318"
     },
     "user_tz": -330
    },
    "id": "JoDwQ9MIkEYH",
    "outputId": "c0c90112-1023-4137-c9f3-34c380f3c6fb"
   },
   "outputs": [
    {
     "data": {
      "text/plain": [
       "110"
      ]
     },
     "execution_count": 228,
     "metadata": {
      "tags": []
     },
     "output_type": "execute_result"
    }
   ],
   "source": [
    "pred_start = delhilist[-n_steps:]\n",
    "for i in range(pred_days):\n",
    "    end = i + n_steps\n",
    "    x_in = np.array(pred_start)[i:end]\n",
    "    x_in = x_in.reshape(1, n_steps, n_features)\n",
    "    y_out = model.predict(x_in, verbose = 0)\n",
    "    pred_start.append(int(y_out))\n",
    "    y_o.append(int(y_out))\n",
    "\n",
    "pred_out = np.array(y_o)\n",
    "x_val = np.arange(len(delhilist))\n",
    "len(x_val)\n"
   ]
  },
  {
   "cell_type": "code",
   "execution_count": 229,
   "metadata": {
    "colab": {
     "base_uri": "https://localhost:8080/",
     "height": 312
    },
    "colab_type": "code",
    "executionInfo": {
     "elapsed": 4183,
     "status": "ok",
     "timestamp": 1592681416797,
     "user": {
      "displayName": "Saniya Rahul Shinde 17241",
      "photoUrl": "",
      "userId": "11719832917019863318"
     },
     "user_tz": -330
    },
    "id": "gCOpoc4zkOJn",
    "outputId": "840f83b8-d74a-4787-f9bf-a36c0683138a"
   },
   "outputs": [
    {
     "data": {
      "image/png": "[encoded data removed]",
      "text/plain": [
       "<Figure size 432x288 with 1 Axes>"
      ]
     },
     "metadata": {
      "needs_background": "light",
      "tags": []
     },
     "output_type": "display_data"
    },
    {
     "name": "stdout",
     "output_type": "stream",
     "text": [
      "Percentage Error is :   0.4859847973882214\n"
     ]
    }
   ],
   "source": [
    "plt.plot(delhicases,label='Actual data',color='red',linewidth=3)\n",
    "plt.plot(pred_out,label='Predicted value',color='blue',linewidth=1)\n",
    "plt.legend(loc='best')\n",
    "plt.xlabel('No of days')\n",
    "plt.ylabel('No of people')\n",
    "plt.title('Delhi - Infected Cases - Vanilla LSTM')\n",
    "plt.show()\n",
    "\n",
    "pred_out\n",
    "pred = []\n",
    "for i in range(len(delhilist)):\n",
    "  pred.append(pred_out[i])\n",
    "pred=np.asarray(pred)\n",
    "\n",
    "MSE = mean_squared_error(delhicases,pred)\n",
    "RMS = np.sqrt(MSE)\n",
    "#print(MSE, '\\t',RMS)\n",
    "\n",
    "total = delhicases[len(delhicases)-1]\n",
    "#print(total)\n",
    "\n",
    "percentage_error = (RMS*100)/total\n",
    "print(\"Percentage Error is :  \",percentage_error)"
   ]
  },
  {
   "cell_type": "markdown",
   "metadata": {
    "colab_type": "text",
    "id": "FxpdIdTvM2Bi"
   },
   "source": [
    "## Bidirectional LSTM"
   ]
  },
  {
   "cell_type": "code",
   "execution_count": 175,
   "metadata": {
    "colab": {
     "base_uri": "https://localhost:8080/",
     "height": 34
    },
    "colab_type": "code",
    "executionInfo": {
     "elapsed": 72162,
     "status": "ok",
     "timestamp": 1592679171539,
     "user": {
      "displayName": "Saniya Rahul Shinde 17241",
      "photoUrl": "",
      "userId": "11719832917019863318"
     },
     "user_tz": -330
    },
    "id": "cK02lpmyM2ls",
    "outputId": "f95143a9-ac58-4383-b48d-3cee8ebef1f4"
   },
   "outputs": [
    {
     "data": {
      "text/plain": [
       "110"
      ]
     },
     "execution_count": 175,
     "metadata": {
      "tags": []
     },
     "output_type": "execute_result"
    }
   ],
   "source": [
    "model = Sequential()\n",
    "model.add(Bidirectional(LSTM(50, activation='relu'), input_shape=(n_steps, n_features)))\n",
    "model.add(Dense(1))\n",
    "model.compile(optimizer='adam', loss='mse')\n",
    "\n",
    "x = x_raw.reshape(x_raw.shape[0], x_raw.shape[1], n_features)\n",
    "\n",
    "model.fit(x, y, epochs = 50, verbose = False)\n",
    "\n",
    "y_o = delhilist[:n_steps]\n",
    "for i in range(len(delhicases)):\n",
    "    end = i + n_steps\n",
    "    if end == len(delhicases):\n",
    "        break\n",
    "    x_in = delhicases[i:end]\n",
    "    x_in = x_in.reshape(1, n_steps, n_features)\n",
    "    y_out = model.predict(x_in, verbose = 0)\n",
    "    y_o.append(int(y_out))\n",
    "\n",
    "pred_out = np.array(y_o)\n",
    "x_val = np.arange(len(delhilist))\n",
    "\n",
    "pred_start = delhilist[-n_steps:]\n",
    "\n",
    "for i in range(n_days):\n",
    "    end = i + n_steps\n",
    "    x_in = np.array(pred_start)[i:end]\n",
    "    x_in = x_in.reshape(1, n_steps, n_features)\n",
    "    y_out = model.predict(x_in, verbose = 0)\n",
    "    pred_start.append(int(y_out))\n",
    "    y_o.append(int(y_out))\n",
    "\n",
    "pred_out = np.array(y_o)\n",
    "x_val = np.arange(len(delhilist))\n",
    "len(x_val)"
   ]
  },
  {
   "cell_type": "code",
   "execution_count": 176,
   "metadata": {
    "colab": {
     "base_uri": "https://localhost:8080/",
     "height": 312
    },
    "colab_type": "code",
    "executionInfo": {
     "elapsed": 72130,
     "status": "ok",
     "timestamp": 1592679171542,
     "user": {
      "displayName": "Saniya Rahul Shinde 17241",
      "photoUrl": "",
      "userId": "11719832917019863318"
     },
     "user_tz": -330
    },
    "id": "YmrzDp_yNtLw",
    "outputId": "7ffb7080-eb03-4c61-c051-b1a64e135f42"
   },
   "outputs": [
    {
     "data": {
      "image/png": "[encoded data removed]",
      "text/plain": [
       "<Figure size 432x288 with 1 Axes>"
      ]
     },
     "metadata": {
      "needs_background": "light",
      "tags": []
     },
     "output_type": "display_data"
    },
    {
     "name": "stdout",
     "output_type": "stream",
     "text": [
      "Percentage Error is :   0.48311053922821756\n"
     ]
    }
   ],
   "source": [
    "plt.plot(delhicases,label='Actual data',color='red',linewidth=3)\n",
    "plt.plot(pred_out,label='Predicted value',color='blue',linewidth=1)\n",
    "plt.legend(loc='best')\n",
    "plt.xlabel('No of days')\n",
    "plt.ylabel('No of people')\n",
    "plt.title('Delhi - Infected Cases - Bidirectional LSTM')\n",
    "plt.show()\n",
    "\n",
    "pred_out\n",
    "pred = []\n",
    "for i in range(len(delhilist)):\n",
    "  pred.append(pred_out[i])\n",
    "pred=np.asarray(pred)\n",
    "\n",
    "MSE = mean_squared_error(delhicases,pred)\n",
    "RMS = np.sqrt(MSE)\n",
    "#print(MSE, '\\t',RMS)\n",
    "\n",
    "total = delhicases[len(delhicases)-1]\n",
    "#print(total)\n",
    "\n",
    "percentage_error = (RMS*100)/total\n",
    "print(\"Percentage Error is :  \",percentage_error)"
   ]
  },
  {
   "cell_type": "markdown",
   "metadata": {
    "colab_type": "text",
    "id": "i0NBvCmvbBQa"
   },
   "source": [
    "# Gujarat"
   ]
  },
  {
   "cell_type": "code",
   "execution_count": 230,
   "metadata": {
    "colab": {
     "base_uri": "https://localhost:8080/",
     "height": 1000
    },
    "colab_type": "code",
    "executionInfo": {
     "elapsed": 1003,
     "status": "ok",
     "timestamp": 1592681422641,
     "user": {
      "displayName": "Saniya Rahul Shinde 17241",
      "photoUrl": "",
      "userId": "11719832917019863318"
     },
     "user_tz": -330
    },
    "id": "5t-B0AwgjRzw",
    "outputId": "d9891dcd-cd11-420e-c82b-08b68fb0d5fc"
   },
   "outputs": [
    {
     "name": "stdout",
     "output_type": "stream",
     "text": [
      "Day 0 : 5\n",
      "Day 1 : 7\n",
      "Day 2 : 18\n",
      "Day 3 : 29\n",
      "Day 4 : 33\n",
      "Day 5 : 38\n",
      "Day 6 : 43\n",
      "Day 7 : 43\n",
      "Day 8 : 45\n",
      "Day 9 : 58\n",
      "Day 10 : 69\n",
      "Day 11 : 73\n",
      "Day 12 : 82\n",
      "Day 13 : 87\n",
      "Day 14 : 95\n",
      "Day 15 : 105\n",
      "Day 16 : 122\n",
      "Day 17 : 144\n",
      "Day 18 : 165\n",
      "Day 19 : 165\n",
      "Day 20 : 179\n",
      "Day 21 : 241\n",
      "Day 22 : 308\n",
      "Day 23 : 432\n",
      "Day 24 : 539\n",
      "Day 25 : 617\n",
      "Day 26 : 695\n",
      "Day 27 : 871\n",
      "Day 28 : 1021\n",
      "Day 29 : 1272\n",
      "Day 30 : 1604\n",
      "Day 31 : 1851\n",
      "Day 32 : 2066\n",
      "Day 33 : 2272\n",
      "Day 34 : 2407\n",
      "Day 35 : 2624\n",
      "Day 36 : 2815\n",
      "Day 37 : 3071\n",
      "Day 38 : 3301\n",
      "Day 39 : 3548\n",
      "Day 40 : 3774\n",
      "Day 41 : 4082\n",
      "Day 42 : 4395\n",
      "Day 43 : 4721\n",
      "Day 44 : 5055\n",
      "Day 45 : 5428\n",
      "Day 46 : 5804\n",
      "Day 47 : 6245\n",
      "Day 48 : 6625\n",
      "Day 49 : 7012\n",
      "Day 50 : 7402\n",
      "Day 51 : 7796\n",
      "Day 52 : 8194\n",
      "Day 53 : 8541\n",
      "Day 54 : 8903\n",
      "Day 55 : 9267\n",
      "Day 56 : 9591\n",
      "Day 57 : 9931\n",
      "Day 58 : 10988\n",
      "Day 59 : 11379\n",
      "Day 60 : 11745\n",
      "Day 61 : 12140\n",
      "Day 62 : 12537\n",
      "Day 63 : 12905\n",
      "Day 64 : 13268\n",
      "Day 65 : 13664\n",
      "Day 66 : 14056\n",
      "Day 67 : 14460\n",
      "Day 68 : 14821\n",
      "Day 69 : 15195\n",
      "Day 70 : 15562\n",
      "Day 71 : 15934\n",
      "Day 72 : 16343\n",
      "Day 73 : 16779\n",
      "Day 74 : 17200\n",
      "Day 75 : 17617\n",
      "Day 76 : 18100\n",
      "Day 77 : 18584\n",
      "Day 78 : 19094\n",
      "Day 79 : 19592\n",
      "Day 80 : 20070\n",
      "Day 81 : 20545\n",
      "Day 82 : 21014\n",
      "Day 83 : 21521\n",
      "Day 84 : 22032\n",
      "Day 85 : 22527\n",
      "Day 86 : 23038\n",
      "Day 87 : 23544\n",
      "Day 88 : 24055\n",
      "Day 89 : 24577\n",
      "Day 90 : 25093\n",
      "Day 91 : 25601\n"
     ]
    }
   ],
   "source": [
    "guj = covid_india_data.loc[covid_india_data['State/UnionTerritory'] == 'Gujarat']\n",
    "gujcases = guj.Confirmed.to_numpy()\n",
    "gujlist = list(gujcases)\n",
    "for i in range(len(gujlist)):\n",
    "    print('Day', i, ':', gujlist[i])\n",
    "\n",
    "x_raw, y = split_sequence(gujlist, n_steps)"
   ]
  },
  {
   "cell_type": "markdown",
   "metadata": {
    "colab_type": "text",
    "id": "3GhtXI89L3kg"
   },
   "source": [
    "## Vanilla LSTM"
   ]
  },
  {
   "cell_type": "code",
   "execution_count": 231,
   "metadata": {
    "colab": {},
    "colab_type": "code",
    "executionInfo": {
     "elapsed": 6672,
     "status": "ok",
     "timestamp": 1592681430712,
     "user": {
      "displayName": "Saniya Rahul Shinde 17241",
      "photoUrl": "",
      "userId": "11719832917019863318"
     },
     "user_tz": -330
    },
    "id": "-PYXJQ2SjbN1"
   },
   "outputs": [],
   "source": [
    "#Single LSTM\n",
    "model = Sequential()\n",
    "model.add(LSTM(50, activation = 'relu', input_shape = (n_steps, n_features)))\n",
    "model.add(Dense(1))\n",
    "model.compile(optimizer = 'adam', loss = 'mse')\n",
    "\n",
    "x = x_raw.reshape(x_raw.shape[0], x_raw.shape[1], n_features)\n",
    "model.fit(x, y, epochs = 200, verbose = False)\n",
    "\n",
    "y_o = gujlist[:n_steps]\n",
    "for i in range(len(gujcases)):\n",
    "    end = i + n_steps\n",
    "    if end == len(gujcases):\n",
    "        break\n",
    "    x_in = gujcases[i:end]\n",
    "    x_in = x_in.reshape(1, n_steps, n_features)\n",
    "    y_out = model.predict(x_in, verbose = 0)\n",
    "    y_o.append(int(y_out))\n",
    "\n"
   ]
  },
  {
   "cell_type": "code",
   "execution_count": 232,
   "metadata": {
    "colab": {
     "base_uri": "https://localhost:8080/",
     "height": 34
    },
    "colab_type": "code",
    "executionInfo": {
     "elapsed": 4880,
     "status": "ok",
     "timestamp": 1592681430714,
     "user": {
      "displayName": "Saniya Rahul Shinde 17241",
      "photoUrl": "",
      "userId": "11719832917019863318"
     },
     "user_tz": -330
    },
    "id": "Ufxkjy_EkDQE",
    "outputId": "7d3c4097-4dd3-4431-8b1b-89cec1ba1012"
   },
   "outputs": [
    {
     "data": {
      "text/plain": [
       "92"
      ]
     },
     "execution_count": 232,
     "metadata": {
      "tags": []
     },
     "output_type": "execute_result"
    }
   ],
   "source": [
    "pred_start = gujlist[-n_steps:]\n",
    "for i in range(pred_days):\n",
    "    end = i + n_steps\n",
    "    x_in = np.array(pred_start)[i:end]\n",
    "    x_in = x_in.reshape(1, n_steps, n_features)\n",
    "    y_out = model.predict(x_in, verbose = 0)\n",
    "    pred_start.append(int(y_out))\n",
    "    y_o.append(int(y_out))\n",
    "\n",
    "pred_out = np.array(y_o)\n",
    "x_val = np.arange(len(gujlist))\n",
    "len(x_val)\n"
   ]
  },
  {
   "cell_type": "code",
   "execution_count": 233,
   "metadata": {
    "colab": {
     "base_uri": "https://localhost:8080/",
     "height": 312
    },
    "colab_type": "code",
    "executionInfo": {
     "elapsed": 1909,
     "status": "ok",
     "timestamp": 1592681433865,
     "user": {
      "displayName": "Saniya Rahul Shinde 17241",
      "photoUrl": "",
      "userId": "11719832917019863318"
     },
     "user_tz": -330
    },
    "id": "Mrc7sY5_kM-n",
    "outputId": "31069649-4c7d-4eab-a004-024a88497ed3"
   },
   "outputs": [
    {
     "data": {
      "image/png": "[encoded data removed]",
      "text/plain": [
       "<Figure size 432x288 with 1 Axes>"
      ]
     },
     "metadata": {
      "needs_background": "light",
      "tags": []
     },
     "output_type": "display_data"
    },
    {
     "name": "stdout",
     "output_type": "stream",
     "text": [
      "Percentage Error is :   0.9955898641947513\n"
     ]
    }
   ],
   "source": [
    "plt.plot(gujcases,label='Actual data',color='red',linewidth=3)\n",
    "plt.plot(pred_out,label='Predicted value',color='blue',linewidth=1)\n",
    "plt.legend(loc='best')\n",
    "plt.xlabel('No of days')\n",
    "plt.ylabel('No of people')\n",
    "plt.title('Gujarat - Infected Cases - Vanilla LSTM')\n",
    "plt.show()\n",
    "\n",
    "pred_out\n",
    "pred = []\n",
    "for i in range(len(gujlist)):\n",
    "  pred.append(pred_out[i])\n",
    "pred=np.asarray(pred)\n",
    "\n",
    "MSE = mean_squared_error(gujcases,pred)\n",
    "RMS = np.sqrt(MSE)\n",
    "#print(MSE, '\\t',RMS)\n",
    "\n",
    "total = gujcases[len(gujcases)-1]\n",
    "#print(total)\n",
    "\n",
    "percentage_error = (RMS*100)/total\n",
    "print(\"Percentage Error is :  \",percentage_error)"
   ]
  },
  {
   "cell_type": "markdown",
   "metadata": {
    "colab_type": "text",
    "id": "kxEfxLboMv3D"
   },
   "source": [
    "## Bidirectional LSTM"
   ]
  },
  {
   "cell_type": "code",
   "execution_count": 181,
   "metadata": {
    "colab": {
     "base_uri": "https://localhost:8080/",
     "height": 34
    },
    "colab_type": "code",
    "executionInfo": {
     "elapsed": 82739,
     "status": "ok",
     "timestamp": 1592679182226,
     "user": {
      "displayName": "Saniya Rahul Shinde 17241",
      "photoUrl": "",
      "userId": "11719832917019863318"
     },
     "user_tz": -330
    },
    "id": "cc-dD_IfMwcF",
    "outputId": "5392b609-5b57-424c-fbd5-67ef6968fe7a"
   },
   "outputs": [
    {
     "data": {
      "text/plain": [
       "92"
      ]
     },
     "execution_count": 181,
     "metadata": {
      "tags": []
     },
     "output_type": "execute_result"
    }
   ],
   "source": [
    "model = Sequential()\n",
    "model.add(Bidirectional(LSTM(50, activation='relu'), input_shape=(n_steps, n_features)))\n",
    "model.add(Dense(1))\n",
    "model.compile(optimizer='adam', loss='mse')\n",
    "\n",
    "x = x_raw.reshape(x_raw.shape[0], x_raw.shape[1], n_features)\n",
    "\n",
    "model.fit(x, y, epochs = 50, verbose = False)\n",
    "\n",
    "y_o = gujlist[:n_steps]\n",
    "for i in range(len(gujcases)):\n",
    "    end = i + n_steps\n",
    "    if end == len(gujcases):\n",
    "        break\n",
    "    x_in = gujcases[i:end]\n",
    "    x_in = x_in.reshape(1, n_steps, n_features)\n",
    "    y_out = model.predict(x_in, verbose = 0)\n",
    "    y_o.append(int(y_out))\n",
    "\n",
    "pred_out = np.array(y_o)\n",
    "x_val = np.arange(len(gujlist))\n",
    "\n",
    "pred_start = gujlist[-n_steps:]\n",
    "\n",
    "for i in range(n_days):\n",
    "    end = i + n_steps\n",
    "    x_in = np.array(pred_start)[i:end]\n",
    "    x_in = x_in.reshape(1, n_steps, n_features)\n",
    "    y_out = model.predict(x_in, verbose = 0)\n",
    "    pred_start.append(int(y_out))\n",
    "    y_o.append(int(y_out))\n",
    "\n",
    "pred_out = np.array(y_o)\n",
    "x_val = np.arange(len(gujlist))\n",
    "len(x_val)"
   ]
  },
  {
   "cell_type": "code",
   "execution_count": 182,
   "metadata": {
    "colab": {
     "base_uri": "https://localhost:8080/",
     "height": 312
    },
    "colab_type": "code",
    "executionInfo": {
     "elapsed": 82728,
     "status": "ok",
     "timestamp": 1592679182231,
     "user": {
      "displayName": "Saniya Rahul Shinde 17241",
      "photoUrl": "",
      "userId": "11719832917019863318"
     },
     "user_tz": -330
    },
    "id": "CiCw7OCfNrVA",
    "outputId": "8749e747-6568-4b88-c43b-f8ef50ba2298"
   },
   "outputs": [
    {
     "data": {
      "image/png": "[encoded data removed]",
      "text/plain": [
       "<Figure size 432x288 with 1 Axes>"
      ]
     },
     "metadata": {
      "needs_background": "light",
      "tags": []
     },
     "output_type": "display_data"
    },
    {
     "name": "stdout",
     "output_type": "stream",
     "text": [
      "Percentage Error is :   0.9208053066370598\n"
     ]
    }
   ],
   "source": [
    "plt.plot(gujcases,label='Actual data',color='red',linewidth=3)\n",
    "plt.plot(pred_out,label='Predicted value',color='blue',linewidth=1)\n",
    "plt.legend(loc='best')\n",
    "plt.xlabel('No of days')\n",
    "plt.ylabel('No of people')\n",
    "plt.title('Gujarat - Infected Cases - Bidirectional LSTM')\n",
    "plt.show()\n",
    "\n",
    "pred_out\n",
    "pred = []\n",
    "for i in range(len(gujlist)):\n",
    "  pred.append(pred_out[i])\n",
    "pred=np.asarray(pred)\n",
    "\n",
    "MSE = mean_squared_error(gujcases,pred)\n",
    "RMS = np.sqrt(MSE)\n",
    "#print(MSE, '\\t',RMS)\n",
    "\n",
    "total = gujcases[len(gujcases)-1]\n",
    "#print(total)\n",
    "\n",
    "percentage_error = (RMS*100)/total\n",
    "print(\"Percentage Error is :  \",percentage_error)"
   ]
  },
  {
   "cell_type": "markdown",
   "metadata": {
    "colab_type": "text",
    "id": "cshB5cR5bDzd"
   },
   "source": [
    "# Uttar Pradesh"
   ]
  },
  {
   "cell_type": "code",
   "execution_count": 234,
   "metadata": {
    "colab": {
     "base_uri": "https://localhost:8080/",
     "height": 1000
    },
    "colab_type": "code",
    "executionInfo": {
     "elapsed": 1898,
     "status": "ok",
     "timestamp": 1592681447414,
     "user": {
      "displayName": "Saniya Rahul Shinde 17241",
      "photoUrl": "",
      "userId": "11719832917019863318"
     },
     "user_tz": -330
    },
    "id": "zqjsJKd4jPZf",
    "outputId": "f7b04b00-1f11-42bc-c806-9aea12b3689d"
   },
   "outputs": [
    {
     "name": "stdout",
     "output_type": "stream",
     "text": [
      "Day 0 : 6\n",
      "Day 1 : 7\n",
      "Day 2 : 7\n",
      "Day 3 : 7\n",
      "Day 4 : 7\n",
      "Day 5 : 7\n",
      "Day 6 : 7\n",
      "Day 7 : 9\n",
      "Day 8 : 11\n",
      "Day 9 : 11\n",
      "Day 10 : 12\n",
      "Day 11 : 13\n",
      "Day 12 : 13\n",
      "Day 13 : 15\n",
      "Day 14 : 16\n",
      "Day 15 : 19\n",
      "Day 16 : 23\n",
      "Day 17 : 24\n",
      "Day 18 : 27\n",
      "Day 19 : 31\n",
      "Day 20 : 33\n",
      "Day 21 : 37\n",
      "Day 22 : 41\n",
      "Day 23 : 41\n",
      "Day 24 : 55\n",
      "Day 25 : 65\n",
      "Day 26 : 82\n",
      "Day 27 : 101\n",
      "Day 28 : 103\n",
      "Day 29 : 113\n",
      "Day 30 : 172\n",
      "Day 31 : 174\n",
      "Day 32 : 227\n",
      "Day 33 : 305\n",
      "Day 34 : 305\n",
      "Day 35 : 343\n",
      "Day 36 : 410\n",
      "Day 37 : 431\n",
      "Day 38 : 433\n",
      "Day 39 : 452\n",
      "Day 40 : 483\n",
      "Day 41 : 657\n",
      "Day 42 : 735\n",
      "Day 43 : 773\n",
      "Day 44 : 846\n",
      "Day 45 : 969\n",
      "Day 46 : 1084\n",
      "Day 47 : 1176\n",
      "Day 48 : 1294\n",
      "Day 49 : 1412\n",
      "Day 50 : 1509\n",
      "Day 51 : 1604\n",
      "Day 52 : 1778\n",
      "Day 53 : 1843\n",
      "Day 54 : 1955\n",
      "Day 55 : 2043\n",
      "Day 56 : 2115\n",
      "Day 57 : 2203\n",
      "Day 58 : 2281\n",
      "Day 59 : 2328\n",
      "Day 60 : 2626\n",
      "Day 61 : 2742\n",
      "Day 62 : 2859\n",
      "Day 63 : 2880\n",
      "Day 64 : 2998\n",
      "Day 65 : 3071\n",
      "Day 66 : 3214\n",
      "Day 67 : 3373\n",
      "Day 68 : 3467\n",
      "Day 69 : 3573\n",
      "Day 70 : 3664\n",
      "Day 71 : 3729\n",
      "Day 72 : 3902\n",
      "Day 73 : 4057\n",
      "Day 74 : 4258\n",
      "Day 75 : 4259\n",
      "Day 76 : 4605\n",
      "Day 77 : 4926\n",
      "Day 78 : 5175\n",
      "Day 79 : 5515\n",
      "Day 80 : 5735\n",
      "Day 81 : 6017\n",
      "Day 82 : 6268\n",
      "Day 83 : 6532\n",
      "Day 84 : 6548\n",
      "Day 85 : 6991\n",
      "Day 86 : 7170\n",
      "Day 87 : 7284\n",
      "Day 88 : 7445\n",
      "Day 89 : 7823\n",
      "Day 90 : 8075\n",
      "Day 91 : 8361\n",
      "Day 92 : 8729\n",
      "Day 93 : 9237\n",
      "Day 94 : 9733\n",
      "Day 95 : 9733\n",
      "Day 96 : 10536\n",
      "Day 97 : 10947\n",
      "Day 98 : 11335\n",
      "Day 99 : 11610\n",
      "Day 100 : 12088\n",
      "Day 101 : 12616\n",
      "Day 102 : 13118\n",
      "Day 103 : 13615\n",
      "Day 104 : 13615\n",
      "Day 105 : 14091\n",
      "Day 106 : 14598\n",
      "Day 107 : 15181\n"
     ]
    }
   ],
   "source": [
    "UP = covid_india_data.loc[covid_india_data['State/UnionTerritory'] == 'Uttar Pradesh']\n",
    "UPcases = UP.Confirmed.to_numpy()\n",
    "UPlist = list(UPcases)\n",
    "for i in range(len(UPlist)):\n",
    "    print('Day', i, ':', UPlist[i])\n",
    "\n",
    "x_raw, y = split_sequence(UPlist, n_steps)"
   ]
  },
  {
   "cell_type": "markdown",
   "metadata": {
    "colab_type": "text",
    "id": "cLFIbHj0L00a"
   },
   "source": [
    "## Vanilla LSTM"
   ]
  },
  {
   "cell_type": "code",
   "execution_count": 235,
   "metadata": {
    "colab": {},
    "colab_type": "code",
    "executionInfo": {
     "elapsed": 7368,
     "status": "ok",
     "timestamp": 1592681456727,
     "user": {
      "displayName": "Saniya Rahul Shinde 17241",
      "photoUrl": "",
      "userId": "11719832917019863318"
     },
     "user_tz": -330
    },
    "id": "N7OZO1NyjaBN"
   },
   "outputs": [],
   "source": [
    "#Single LSTM\n",
    "model = Sequential()\n",
    "model.add(LSTM(50, activation = 'relu', input_shape = (n_steps, n_features)))\n",
    "model.add(Dense(1))\n",
    "model.compile(optimizer = 'adam', loss = 'mse')\n",
    "\n",
    "x = x_raw.reshape(x_raw.shape[0], x_raw.shape[1], n_features)\n",
    "model.fit(x, y, epochs = 200, verbose = False)\n",
    "\n",
    "y_o = UPlist[:n_steps]\n",
    "for i in range(len(UPcases)):\n",
    "    end = i + n_steps\n",
    "    if end == len(UPcases):\n",
    "        break\n",
    "    x_in = UPcases[i:end]\n",
    "    x_in = x_in.reshape(1, n_steps, n_features)\n",
    "    y_out = model.predict(x_in, verbose = 0)\n",
    "    y_o.append(int(y_out))\n",
    "\n"
   ]
  },
  {
   "cell_type": "code",
   "execution_count": 236,
   "metadata": {
    "colab": {
     "base_uri": "https://localhost:8080/",
     "height": 34
    },
    "colab_type": "code",
    "executionInfo": {
     "elapsed": 2198,
     "status": "ok",
     "timestamp": 1592681459904,
     "user": {
      "displayName": "Saniya Rahul Shinde 17241",
      "photoUrl": "",
      "userId": "11719832917019863318"
     },
     "user_tz": -330
    },
    "id": "Bt4ECDBnkB_2",
    "outputId": "ddff1ff5-114d-4b33-d42c-4be999a03ea8"
   },
   "outputs": [
    {
     "data": {
      "text/plain": [
       "108"
      ]
     },
     "execution_count": 236,
     "metadata": {
      "tags": []
     },
     "output_type": "execute_result"
    }
   ],
   "source": [
    "pred_start = UPlist[-n_steps:]\n",
    "for i in range(pred_days):\n",
    "    end = i + n_steps\n",
    "    x_in = np.array(pred_start)[i:end]\n",
    "    x_in = x_in.reshape(1, n_steps, n_features)\n",
    "    y_out = model.predict(x_in, verbose = 0)\n",
    "    pred_start.append(int(y_out))\n",
    "    y_o.append(int(y_out))\n",
    "\n",
    "pred_out = np.array(y_o)\n",
    "x_val = np.arange(len(UPlist))\n",
    "len(x_val)\n"
   ]
  },
  {
   "cell_type": "code",
   "execution_count": 237,
   "metadata": {
    "colab": {
     "base_uri": "https://localhost:8080/",
     "height": 312
    },
    "colab_type": "code",
    "executionInfo": {
     "elapsed": 1267,
     "status": "ok",
     "timestamp": 1592681459910,
     "user": {
      "displayName": "Saniya Rahul Shinde 17241",
      "photoUrl": "",
      "userId": "11719832917019863318"
     },
     "user_tz": -330
    },
    "id": "EWSodcfjkL2Z",
    "outputId": "8373c6bf-62f4-4eeb-d829-410e43eb5d4d"
   },
   "outputs": [
    {
     "data": {
      "image/png": "[encoded data removed]",
      "text/plain": [
       "<Figure size 432x288 with 1 Axes>"
      ]
     },
     "metadata": {
      "needs_background": "light",
      "tags": []
     },
     "output_type": "display_data"
    },
    {
     "name": "stdout",
     "output_type": "stream",
     "text": [
      "Percentage Error is :   0.7680513572561123\n"
     ]
    }
   ],
   "source": [
    "plt.plot(UPcases,label='Actual data',color='red',linewidth=3)\n",
    "plt.plot(pred_out,label='Predicted value',color='blue',linewidth=1)\n",
    "plt.legend(loc='best')\n",
    "plt.xlabel('No of days')\n",
    "plt.ylabel('No of people')\n",
    "plt.title('Uttar Pradesh - Infected Cases - Vanilla LSTM')\n",
    "plt.show()\n",
    "\n",
    "pred_out\n",
    "pred = []\n",
    "for i in range(len(UPlist)):\n",
    "  pred.append(pred_out[i])\n",
    "pred=np.asarray(pred)\n",
    "\n",
    "MSE = mean_squared_error(UPcases,pred)\n",
    "RMS = np.sqrt(MSE)\n",
    "#print(MSE, '\\t',RMS)\n",
    "\n",
    "total = UPcases[len(UPcases)-1]\n",
    "#print(total)\n",
    "\n",
    "percentage_error = (RMS*100)/total\n",
    "print(\"Percentage Error is :  \",percentage_error)"
   ]
  },
  {
   "cell_type": "markdown",
   "metadata": {
    "colab_type": "text",
    "id": "z7nmJNINMpHp"
   },
   "source": [
    "## Bidirectional LSTM"
   ]
  },
  {
   "cell_type": "code",
   "execution_count": 187,
   "metadata": {
    "colab": {
     "base_uri": "https://localhost:8080/",
     "height": 34
    },
    "colab_type": "code",
    "executionInfo": {
     "elapsed": 95322,
     "status": "ok",
     "timestamp": 1592679194923,
     "user": {
      "displayName": "Saniya Rahul Shinde 17241",
      "photoUrl": "",
      "userId": "11719832917019863318"
     },
     "user_tz": -330
    },
    "id": "4c1eWreyMqH3",
    "outputId": "134d297a-3e95-4c90-c719-bcd3ba0dfab5"
   },
   "outputs": [
    {
     "data": {
      "text/plain": [
       "108"
      ]
     },
     "execution_count": 187,
     "metadata": {
      "tags": []
     },
     "output_type": "execute_result"
    }
   ],
   "source": [
    "model = Sequential()\n",
    "model.add(Bidirectional(LSTM(50, activation='relu'), input_shape=(n_steps, n_features)))\n",
    "model.add(Dense(1))\n",
    "model.compile(optimizer='adam', loss='mse')\n",
    "\n",
    "x = x_raw.reshape(x_raw.shape[0], x_raw.shape[1], n_features)\n",
    "\n",
    "model.fit(x, y, epochs = 50, verbose = False)\n",
    "\n",
    "y_o = UPlist[:n_steps]\n",
    "for i in range(len(UPcases)):\n",
    "    end = i + n_steps\n",
    "    if end == len(UPcases):\n",
    "        break\n",
    "    x_in = UPcases[i:end]\n",
    "    x_in = x_in.reshape(1, n_steps, n_features)\n",
    "    y_out = model.predict(x_in, verbose = 0)\n",
    "    y_o.append(int(y_out))\n",
    "\n",
    "pred_out = np.array(y_o)\n",
    "x_val = np.arange(len(UPlist))\n",
    "\n",
    "pred_start = UPlist[-n_steps:]\n",
    "\n",
    "for i in range(n_days):\n",
    "    end = i + n_steps\n",
    "    x_in = np.array(pred_start)[i:end]\n",
    "    x_in = x_in.reshape(1, n_steps, n_features)\n",
    "    y_out = model.predict(x_in, verbose = 0)\n",
    "    pred_start.append(int(y_out))\n",
    "    y_o.append(int(y_out))\n",
    "\n",
    "pred_out = np.array(y_o)\n",
    "x_val = np.arange(len(UPlist))\n",
    "len(x_val)"
   ]
  },
  {
   "cell_type": "code",
   "execution_count": 188,
   "metadata": {
    "colab": {
     "base_uri": "https://localhost:8080/",
     "height": 312
    },
    "colab_type": "code",
    "executionInfo": {
     "elapsed": 95310,
     "status": "ok",
     "timestamp": 1592679194926,
     "user": {
      "displayName": "Saniya Rahul Shinde 17241",
      "photoUrl": "",
      "userId": "11719832917019863318"
     },
     "user_tz": -330
    },
    "id": "5CZQicFoNpPJ",
    "outputId": "d7fbc724-2fcd-4e21-c756-136f4309cf52"
   },
   "outputs": [
    {
     "data": {
      "image/png": "[encoded data removed]",
      "text/plain": [
       "<Figure size 432x288 with 1 Axes>"
      ]
     },
     "metadata": {
      "needs_background": "light",
      "tags": []
     },
     "output_type": "display_data"
    },
    {
     "name": "stdout",
     "output_type": "stream",
     "text": [
      "Percentage Error is :   0.7368524005110528\n"
     ]
    }
   ],
   "source": [
    "plt.plot(UPcases,label='Actual data',color='red',linewidth=3)\n",
    "plt.plot(pred_out,label='Predicted value',color='blue',linewidth=1)\n",
    "plt.legend(loc='best')\n",
    "plt.xlabel('No of days')\n",
    "plt.ylabel('No of people')\n",
    "plt.title('Uttar Pradesh - Infected Cases - Bidirectional LSTM')\n",
    "plt.show()\n",
    "\n",
    "pred_out\n",
    "pred = []\n",
    "for i in range(len(UPlist)):\n",
    "  pred.append(pred_out[i])\n",
    "pred=np.asarray(pred)\n",
    "\n",
    "MSE = mean_squared_error(UPcases,pred)\n",
    "RMS = np.sqrt(MSE)\n",
    "#print(MSE, '\\t',RMS)\n",
    "\n",
    "total = UPcases[len(UPcases)-1]\n",
    "#print(total)\n",
    "\n",
    "percentage_error = (RMS*100)/total\n",
    "print(\"Percentage Error is :  \",percentage_error)"
   ]
  },
  {
   "cell_type": "markdown",
   "metadata": {
    "colab_type": "text",
    "id": "kpSp3ffxKVrt"
   },
   "source": [
    "# Kerala"
   ]
  },
  {
   "cell_type": "code",
   "execution_count": 238,
   "metadata": {
    "colab": {
     "base_uri": "https://localhost:8080/",
     "height": 1000
    },
    "colab_type": "code",
    "executionInfo": {
     "elapsed": 920,
     "status": "ok",
     "timestamp": 1592681467638,
     "user": {
      "displayName": "Saniya Rahul Shinde 17241",
      "photoUrl": "",
      "userId": "11719832917019863318"
     },
     "user_tz": -330
    },
    "id": "EI0L6fhmCZCy",
    "outputId": "1b4bf71a-f751-40c0-b402-3da81ad182e5"
   },
   "outputs": [
    {
     "name": "stdout",
     "output_type": "stream",
     "text": [
      "Day 0 : 1\n",
      "Day 1 : 1\n",
      "Day 2 : 2\n",
      "Day 3 : 3\n",
      "Day 4 : 3\n",
      "Day 5 : 3\n",
      "Day 6 : 3\n",
      "Day 7 : 3\n",
      "Day 8 : 3\n",
      "Day 9 : 3\n",
      "Day 10 : 3\n",
      "Day 11 : 3\n",
      "Day 12 : 3\n",
      "Day 13 : 3\n",
      "Day 14 : 3\n",
      "Day 15 : 3\n",
      "Day 16 : 3\n",
      "Day 17 : 3\n",
      "Day 18 : 3\n",
      "Day 19 : 3\n",
      "Day 20 : 3\n",
      "Day 21 : 3\n",
      "Day 22 : 3\n",
      "Day 23 : 3\n",
      "Day 24 : 3\n",
      "Day 25 : 3\n",
      "Day 26 : 3\n",
      "Day 27 : 3\n",
      "Day 28 : 3\n",
      "Day 29 : 3\n",
      "Day 30 : 3\n",
      "Day 31 : 3\n",
      "Day 32 : 3\n",
      "Day 33 : 3\n",
      "Day 34 : 3\n",
      "Day 35 : 3\n",
      "Day 36 : 3\n",
      "Day 37 : 3\n",
      "Day 38 : 8\n",
      "Day 39 : 9\n",
      "Day 40 : 15\n",
      "Day 41 : 17\n",
      "Day 42 : 17\n",
      "Day 43 : 19\n",
      "Day 44 : 19\n",
      "Day 45 : 22\n",
      "Day 46 : 23\n",
      "Day 47 : 26\n",
      "Day 48 : 27\n",
      "Day 49 : 27\n",
      "Day 50 : 28\n",
      "Day 51 : 40\n",
      "Day 52 : 52\n",
      "Day 53 : 67\n",
      "Day 54 : 95\n",
      "Day 55 : 109\n",
      "Day 56 : 118\n",
      "Day 57 : 137\n",
      "Day 58 : 176\n",
      "Day 59 : 182\n",
      "Day 60 : 202\n",
      "Day 61 : 234\n",
      "Day 62 : 241\n",
      "Day 63 : 265\n",
      "Day 64 : 286\n",
      "Day 65 : 295\n",
      "Day 66 : 306\n",
      "Day 67 : 314\n",
      "Day 68 : 327\n",
      "Day 69 : 336\n",
      "Day 70 : 345\n",
      "Day 71 : 357\n",
      "Day 72 : 364\n",
      "Day 73 : 374\n",
      "Day 74 : 376\n",
      "Day 75 : 379\n",
      "Day 76 : 387\n",
      "Day 77 : 388\n",
      "Day 78 : 395\n",
      "Day 79 : 396\n",
      "Day 80 : 400\n",
      "Day 81 : 402\n",
      "Day 82 : 408\n",
      "Day 83 : 427\n",
      "Day 84 : 438\n",
      "Day 85 : 448\n",
      "Day 86 : 451\n",
      "Day 87 : 458\n",
      "Day 88 : 469\n",
      "Day 89 : 482\n",
      "Day 90 : 486\n",
      "Day 91 : 496\n",
      "Day 92 : 497\n",
      "Day 93 : 497\n",
      "Day 94 : 500\n",
      "Day 95 : 500\n",
      "Day 96 : 500\n",
      "Day 97 : 502\n",
      "Day 98 : 503\n",
      "Day 99 : 503\n",
      "Day 100 : 503\n",
      "Day 101 : 505\n",
      "Day 102 : 512\n",
      "Day 103 : 519\n",
      "Day 104 : 524\n",
      "Day 105 : 534\n",
      "Day 106 : 560\n",
      "Day 107 : 576\n",
      "Day 108 : 587\n",
      "Day 109 : 601\n",
      "Day 110 : 630\n",
      "Day 111 : 642\n",
      "Day 112 : 666\n",
      "Day 113 : 690\n",
      "Day 114 : 732\n",
      "Day 115 : 795\n",
      "Day 116 : 847\n",
      "Day 117 : 896\n",
      "Day 118 : 963\n",
      "Day 119 : 1004\n",
      "Day 120 : 1088\n",
      "Day 121 : 1150\n",
      "Day 122 : 1208\n",
      "Day 123 : 1269\n",
      "Day 124 : 1326\n",
      "Day 125 : 1412\n",
      "Day 126 : 1494\n",
      "Day 127 : 1588\n",
      "Day 128 : 1699\n",
      "Day 129 : 1807\n",
      "Day 130 : 1914\n",
      "Day 131 : 2005\n",
      "Day 132 : 2096\n",
      "Day 133 : 2161\n",
      "Day 134 : 2244\n",
      "Day 135 : 2322\n",
      "Day 136 : 2407\n",
      "Day 137 : 2461\n",
      "Day 138 : 2543\n",
      "Day 139 : 2622\n",
      "Day 140 : 2697\n",
      "Day 141 : 2794\n"
     ]
    }
   ],
   "source": [
    "kerala = covid_india_data.loc[covid_india_data['State/UnionTerritory'] == 'Kerala']\n",
    "keralacases = kerala.Confirmed.to_numpy()\n",
    "keralalist = list(keralacases)\n",
    "for i in range(len(keralalist)):\n",
    "    print('Day', i, ':', keralalist[i])\n",
    "\n",
    "x_raw, y = split_sequence(keralalist, n_steps)"
   ]
  },
  {
   "cell_type": "markdown",
   "metadata": {
    "colab_type": "text",
    "id": "qgKYCJz8Lwjw"
   },
   "source": [
    "## Vanilla LSTM"
   ]
  },
  {
   "cell_type": "code",
   "execution_count": 239,
   "metadata": {
    "colab": {},
    "colab_type": "code",
    "executionInfo": {
     "elapsed": 8765,
     "status": "ok",
     "timestamp": 1592681477913,
     "user": {
      "displayName": "Saniya Rahul Shinde 17241",
      "photoUrl": "",
      "userId": "11719832917019863318"
     },
     "user_tz": -330
    },
    "id": "gz0EfKpGCZDI"
   },
   "outputs": [],
   "source": [
    "#Single LSTM\n",
    "model = Sequential()\n",
    "model.add(LSTM(50, activation = 'relu', input_shape = (n_steps, n_features)))\n",
    "model.add(Dense(1))\n",
    "model.compile(optimizer = 'adam', loss = 'mse')\n",
    "\n",
    "x = x_raw.reshape(x_raw.shape[0], x_raw.shape[1], n_features)\n",
    "model.fit(x, y, epochs = 200, verbose = False)\n",
    "\n",
    "y_o = keralalist[:n_steps]\n",
    "for i in range(len(keralacases)):\n",
    "    end = i + n_steps\n",
    "    if end == len(keralacases):\n",
    "        break\n",
    "    x_in = keralacases[i:end]\n",
    "    x_in = x_in.reshape(1, n_steps, n_features)\n",
    "    y_out = model.predict(x_in, verbose = 0)\n",
    "    y_o.append(int(y_out))\n"
   ]
  },
  {
   "cell_type": "code",
   "execution_count": 240,
   "metadata": {
    "colab": {
     "base_uri": "https://localhost:8080/",
     "height": 34
    },
    "colab_type": "code",
    "executionInfo": {
     "elapsed": 7870,
     "status": "ok",
     "timestamp": 1592681477916,
     "user": {
      "displayName": "Saniya Rahul Shinde 17241",
      "photoUrl": "",
      "userId": "11719832917019863318"
     },
     "user_tz": -330
    },
    "id": "FfrKAxFtCZDT",
    "outputId": "af80ec0a-a790-4e76-d9cc-bc7b43ec7e62"
   },
   "outputs": [
    {
     "data": {
      "text/plain": [
       "142"
      ]
     },
     "execution_count": 240,
     "metadata": {
      "tags": []
     },
     "output_type": "execute_result"
    }
   ],
   "source": [
    "pred_start = keralalist[-n_steps:]\n",
    "for i in range(pred_days):\n",
    "    end = i + n_steps\n",
    "    x_in = np.array(pred_start)[i:end]\n",
    "    x_in = x_in.reshape(1, n_steps, n_features)\n",
    "    y_out = model.predict(x_in, verbose = 0)\n",
    "    pred_start.append(int(y_out))\n",
    "    y_o.append(int(y_out))\n",
    "\n",
    "pred_out = np.array(y_o)\n",
    "x_val = np.arange(len(keralalist))\n",
    "len(x_val)"
   ]
  },
  {
   "cell_type": "code",
   "execution_count": 241,
   "metadata": {
    "colab": {
     "base_uri": "https://localhost:8080/",
     "height": 312
    },
    "colab_type": "code",
    "executionInfo": {
     "elapsed": 1070,
     "status": "ok",
     "timestamp": 1592681481608,
     "user": {
      "displayName": "Saniya Rahul Shinde 17241",
      "photoUrl": "",
      "userId": "11719832917019863318"
     },
     "user_tz": -330
    },
    "id": "rK-KITJKCZDh",
    "outputId": "1889bc8c-f8cb-497c-c811-d57d0ac8d80c"
   },
   "outputs": [
    {
     "data": {
      "image/png": "[encoded data removed]",
      "text/plain": [
       "<Figure size 432x288 with 1 Axes>"
      ]
     },
     "metadata": {
      "needs_background": "light",
      "tags": []
     },
     "output_type": "display_data"
    },
    {
     "name": "stdout",
     "output_type": "stream",
     "text": [
      "Percentage Error is :   0.929750828221328\n"
     ]
    }
   ],
   "source": [
    "plt.plot(keralacases,label='Actual data',color='red',linewidth=3)\n",
    "plt.plot(pred_out,label='Predicted value',color='blue',linewidth=1)\n",
    "plt.legend(loc='best')\n",
    "plt.xlabel('No of days')\n",
    "plt.ylabel('No of people')\n",
    "plt.title('Kerala - Infected Cases - Vanilla LSTM')\n",
    "plt.show()\n",
    "\n",
    "pred_out\n",
    "pred = []\n",
    "for i in range(len(keralalist)):\n",
    "  pred.append(pred_out[i])\n",
    "pred=np.asarray(pred)\n",
    "\n",
    "MSE = mean_squared_error(keralacases,pred)\n",
    "RMS = np.sqrt(MSE)\n",
    "#print(MSE, '\\t',RMS)\n",
    "\n",
    "total = keralacases[len(keralacases)-1]\n",
    "#print(total)\n",
    "\n",
    "percentage_error = (RMS*100)/total\n",
    "print(\"Percentage Error is :  \",percentage_error)"
   ]
  },
  {
   "cell_type": "markdown",
   "metadata": {
    "colab_type": "text",
    "id": "VtxpJ_kyKG_X"
   },
   "source": [
    "## Bidirectional LSTM"
   ]
  },
  {
   "cell_type": "code",
   "execution_count": 193,
   "metadata": {
    "colab": {
     "base_uri": "https://localhost:8080/",
     "height": 34
    },
    "colab_type": "code",
    "executionInfo": {
     "elapsed": 110178,
     "status": "ok",
     "timestamp": 1592679209868,
     "user": {
      "displayName": "Saniya Rahul Shinde 17241",
      "photoUrl": "",
      "userId": "11719832917019863318"
     },
     "user_tz": -330
    },
    "id": "C4qoAtr7CnGV",
    "outputId": "0731db45-cf80-4c65-9697-3fbe85024280"
   },
   "outputs": [
    {
     "data": {
      "text/plain": [
       "142"
      ]
     },
     "execution_count": 193,
     "metadata": {
      "tags": []
     },
     "output_type": "execute_result"
    }
   ],
   "source": [
    "model = Sequential()\n",
    "model.add(Bidirectional(LSTM(50, activation='relu'), input_shape=(n_steps, n_features)))\n",
    "model.add(Dense(1))\n",
    "model.compile(optimizer='adam', loss='mse')\n",
    "\n",
    "x = x_raw.reshape(x_raw.shape[0], x_raw.shape[1], n_features)\n",
    "\n",
    "model.fit(x, y, epochs = 50, verbose = False)\n",
    "\n",
    "y_o = keralalist[:n_steps]\n",
    "for i in range(len(keralacases)):\n",
    "    end = i + n_steps\n",
    "    if end == len(keralacases):\n",
    "        break\n",
    "    x_in = keralacases[i:end]\n",
    "    x_in = x_in.reshape(1, n_steps, n_features)\n",
    "    y_out = model.predict(x_in, verbose = 0)\n",
    "    y_o.append(int(y_out))\n",
    "\n",
    "pred_out = np.array(y_o)\n",
    "x_val = np.arange(len(keralalist))\n",
    "\n",
    "pred_start = keralalist[-n_steps:]\n",
    "\n",
    "for i in range(n_days):\n",
    "    end = i + n_steps\n",
    "    x_in = np.array(pred_start)[i:end]\n",
    "    x_in = x_in.reshape(1, n_steps, n_features)\n",
    "    y_out = model.predict(x_in, verbose = 0)\n",
    "    pred_start.append(int(y_out))\n",
    "    y_o.append(int(y_out))\n",
    "\n",
    "pred_out = np.array(y_o)\n",
    "x_val = np.arange(len(keralalist))\n",
    "len(x_val)"
   ]
  },
  {
   "cell_type": "code",
   "execution_count": 194,
   "metadata": {
    "colab": {
     "base_uri": "https://localhost:8080/",
     "height": 312
    },
    "colab_type": "code",
    "executionInfo": {
     "elapsed": 110163,
     "status": "ok",
     "timestamp": 1592679209869,
     "user": {
      "displayName": "Saniya Rahul Shinde 17241",
      "photoUrl": "",
      "userId": "11719832917019863318"
     },
     "user_tz": -330
    },
    "id": "zkJjISuPDAco",
    "outputId": "06471e12-c0ca-44ee-b641-45ae8e7db27f"
   },
   "outputs": [
    {
     "data": {
      "image/png": "[encoded data removed]",
      "text/plain": [
       "<Figure size 432x288 with 1 Axes>"
      ]
     },
     "metadata": {
      "needs_background": "light",
      "tags": []
     },
     "output_type": "display_data"
    },
    {
     "name": "stdout",
     "output_type": "stream",
     "text": [
      "Percentage Error is :   0.5894235211013865\n"
     ]
    }
   ],
   "source": [
    "plt.plot(keralacases,label='Actual data',color='red',linewidth=3)\n",
    "plt.plot(pred_out,label='Predicted value',color='blue',linewidth=1)\n",
    "plt.legend(loc='best')\n",
    "plt.xlabel('No of days')\n",
    "plt.ylabel('No of people')\n",
    "plt.title('Kerala - Infected Cases - Bidirectional LSTM')\n",
    "plt.show()\n",
    "\n",
    "pred_out\n",
    "pred = []\n",
    "for i in range(len(keralalist)):\n",
    "  pred.append(pred_out[i])\n",
    "pred=np.asarray(pred)\n",
    "\n",
    "MSE = mean_squared_error(keralacases,pred)\n",
    "RMS = np.sqrt(MSE)\n",
    "#print(MSE, '\\t',RMS)\n",
    "\n",
    "total = keralacases[len(keralacases)-1]\n",
    "#print(total)\n",
    "\n",
    "percentage_error = (RMS*100)/total\n",
    "print(\"Percentage Error is :  \",percentage_error)"
   ]
  }
 ],
 "metadata": {
  "colab": {
   "collapsed_sections": [],
   "name": "Covid_LSTM.ipynb",
   "provenance": []
  },
  "kernelspec": {
   "display_name": "Python 3",
   "language": "python",
   "name": "python3"
  },
  "language_info": {
   "codemirror_mode": {
    "name": "ipython",
    "version": 3
   },
   "file_extension": ".py",
   "mimetype": "text/x-python",
   "name": "python",
   "nbconvert_exporter": "python",
   "pygments_lexer": "ipython3",
   "version": "3.8.5"
  }
 },
 "nbformat": 4,
 "nbformat_minor": 1
}
